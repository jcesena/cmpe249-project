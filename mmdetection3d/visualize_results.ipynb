{
 "cells": [
  {
   "cell_type": "markdown",
   "metadata": {},
   "source": [
    "## second 3d car"
   ]
  },
  {
   "cell_type": "code",
   "execution_count": 6,
   "metadata": {},
   "outputs": [
    {
     "name": "stderr",
     "output_type": "stream",
     "text": [
      "c:\\Users\\jesus\\anaconda3\\envs\\mmdet3d\\lib\\site-packages\\torchvision\\io\\image.py:13: UserWarning: Failed to load image Python extension: \n",
      "  warn(f\"Failed to load image Python extension: {e}\")\n"
     ]
    }
   ],
   "source": [
    "!python .\\tools\\misc\\visualize_results.py .\\configs\\second\\hv_second_secfpn_6x8_80e_kitti-3d-car.py --result .\\results\\second-kitti-3dcar.pkl --show-dir .\\vis-results\\hv_second_secfpn_6x8_80e_kitti-3d-car"
   ]
  },
  {
   "cell_type": "markdown",
   "metadata": {},
   "source": [
    "## second 3 class"
   ]
  },
  {
   "cell_type": "code",
   "execution_count": 4,
   "metadata": {},
   "outputs": [
    {
     "name": "stdout",
     "output_type": "stream",
     "text": [
      "[Open3D WARNING] invalid color in PaintUniformColor, clipping to [0, 1]\n",
      "[Open3D WARNING] invalid color in PaintUniformColor, clipping to [0, 1]\n"
     ]
    },
    {
     "name": "stderr",
     "output_type": "stream",
     "text": [
      "c:\\Users\\jesus\\anaconda3\\envs\\mmdet3d\\lib\\site-packages\\torchvision\\io\\image.py:13: UserWarning: Failed to load image Python extension: \n",
      "  warn(f\"Failed to load image Python extension: {e}\")\n"
     ]
    }
   ],
   "source": [
    "!python .\\tools\\misc\\visualize_results.py .\\configs\\second\\hv_second_secfpn_6x8_80e_kitti-3d-3class.py --result .\\results\\hv_second_secfpn_6x8_80e_kitti-3d-3class.pkl --show-dir .\\vis-results\\hv_second_secfpn_6x8_80e_kitti-3d-3class"
   ]
  },
  {
   "cell_type": "markdown",
   "metadata": {},
   "source": [
    "## pointpillars 3d car"
   ]
  },
  {
   "cell_type": "code",
   "execution_count": 12,
   "metadata": {},
   "outputs": [
    {
     "name": "stderr",
     "output_type": "stream",
     "text": [
      "c:\\Users\\jesus\\anaconda3\\envs\\mmdet3d\\lib\\site-packages\\torchvision\\io\\image.py:13: UserWarning: Failed to load image Python extension: \n",
      "  warn(f\"Failed to load image Python extension: {e}\")\n"
     ]
    }
   ],
   "source": [
    "!python .\\tools\\misc\\visualize_results.py .\\configs\\pointpillars\\hv_pointpillars_secfpn_6x8_160e_kitti-3d-car.py --result .\\results\\hv_pointpillars_secfpn_6x8_160e_kitti-3d-car.pkl --show-dir .\\vis-results\\hv_pointpillars_secfpn_6x8_160e_kitti-3d-car"
   ]
  },
  {
   "cell_type": "markdown",
   "metadata": {},
   "source": [
    "## pointpillars 3 class"
   ]
  },
  {
   "cell_type": "code",
   "execution_count": 16,
   "metadata": {},
   "outputs": [
    {
     "name": "stdout",
     "output_type": "stream",
     "text": [
      "[Open3D WARNING] invalid color in PaintUniformColor, clipping to [0, 1]\n",
      "[Open3D WARNING] invalid color in PaintUniformColor, clipping to [0, 1]\n",
      "[Open3D WARNING] invalid color in PaintUniformColor, clipping to [0, 1]\n",
      "[Open3D WARNING] invalid color in PaintUniformColor, clipping to [0, 1]\n"
     ]
    },
    {
     "name": "stderr",
     "output_type": "stream",
     "text": [
      "c:\\Users\\jesus\\anaconda3\\envs\\mmdet3d\\lib\\site-packages\\torchvision\\io\\image.py:13: UserWarning: Failed to load image Python extension: \n",
      "  warn(f\"Failed to load image Python extension: {e}\")\n"
     ]
    }
   ],
   "source": [
    "!python .\\tools\\misc\\visualize_results.py .\\configs\\pointpillars\\hv_pointpillars_secfpn_6x8_160e_kitti-3d-3class.py --result .\\results\\hv_pointpillars_secfpn_6x8_160e_kitti-3d-3class.pkl --show-dir .\\vis-results\\hv_pointpillars_secfpn_6x8_160e_kitti-3d-3class"
   ]
  },
  {
   "cell_type": "markdown",
   "metadata": {},
   "source": [
    "## dynamic 3d car"
   ]
  },
  {
   "cell_type": "code",
   "execution_count": 14,
   "metadata": {},
   "outputs": [
    {
     "name": "stderr",
     "output_type": "stream",
     "text": [
      "c:\\Users\\jesus\\anaconda3\\envs\\mmdet3d\\lib\\site-packages\\torchvision\\io\\image.py:13: UserWarning: Failed to load image Python extension: \n",
      "  warn(f\"Failed to load image Python extension: {e}\")\n"
     ]
    }
   ],
   "source": [
    "!python .\\tools\\misc\\visualize_results.py .\\configs\\dynamic_voxelization\\dv_pointpillars_secfpn_6x8_160e_kitti-3d-car.py --result .\\results\\dv_pointpillars_secfpn_6x8_160e_kitti-3d-car.pkl --show-dir .\\vis-results\\dv_pointpillars_secfpn_6x8_160e_kitti-3d-car"
   ]
  },
  {
   "cell_type": "markdown",
   "metadata": {},
   "source": [
    "## dynamic 3d 3 class"
   ]
  },
  {
   "cell_type": "code",
   "execution_count": 7,
   "metadata": {},
   "outputs": [
    {
     "name": "stdout",
     "output_type": "stream",
     "text": [
      "[Open3D WARNING] invalid color in PaintUniformColor, clipping to [0, 1]\n",
      "[Open3D WARNING] invalid color in PaintUniformColor, clipping to [0, 1]\n",
      "[Open3D WARNING] invalid color in PaintUniformColor, clipping to [0, 1]\n",
      "[Open3D WARNING] invalid color in PaintUniformColor, clipping to [0, 1]\n",
      "[Open3D WARNING] invalid color in PaintUniformColor, clipping to [0, 1]\n",
      "[Open3D WARNING] invalid color in PaintUniformColor, clipping to [0, 1]\n",
      "[Open3D WARNING] invalid color in PaintUniformColor, clipping to [0, 1]\n"
     ]
    },
    {
     "name": "stderr",
     "output_type": "stream",
     "text": [
      "c:\\Users\\jesus\\anaconda3\\envs\\mmdet3d\\lib\\site-packages\\torchvision\\io\\image.py:13: UserWarning: Failed to load image Python extension: \n",
      "  warn(f\"Failed to load image Python extension: {e}\")\n"
     ]
    }
   ],
   "source": [
    "!python .\\tools\\misc\\visualize_results.py .\\configs\\dynamic_voxelization\\dv_pointpillars_secfpn_6x8_160e_kitti-3d-3class.py --result .\\results\\dv_pointpillars_secfpn_6x8_160e_kitti-3d-3class.pkl --show-dir .\\vis-results\\dv_pointpillars_secfpn_6x8_160e_kitti-3d-3class"
   ]
  },
  {
   "cell_type": "markdown",
   "metadata": {},
   "source": [
    "## pointRCNN 3 class"
   ]
  },
  {
   "cell_type": "code",
   "execution_count": 15,
   "metadata": {},
   "outputs": [
    {
     "name": "stderr",
     "output_type": "stream",
     "text": [
      "c:\\Users\\jesus\\anaconda3\\envs\\mmdet3d\\lib\\site-packages\\torchvision\\io\\image.py:13: UserWarning: Failed to load image Python extension: \n",
      "  warn(f\"Failed to load image Python extension: {e}\")\n"
     ]
    }
   ],
   "source": [
    "!python .\\tools\\misc\\visualize_results.py .\\configs\\point_rcnn\\point_rcnn_2x8_kitti-3d-3classes.py --result .\\results\\point_rcnn_2x8_kitti-3d-3classes.pkl --show-dir .\\vis-results\\point_rcnn_2x8_kitti-3d-3classes"
   ]
  },
  {
   "cell_type": "code",
   "execution_count": null,
   "metadata": {},
   "outputs": [],
   "source": []
  }
 ],
 "metadata": {
  "kernelspec": {
   "display_name": "Python 3.7.13 ('mmdet3d')",
   "language": "python",
   "name": "python3"
  },
  "language_info": {
   "codemirror_mode": {
    "name": "ipython",
    "version": 3
   },
   "file_extension": ".py",
   "mimetype": "text/x-python",
   "name": "python",
   "nbconvert_exporter": "python",
   "pygments_lexer": "ipython3",
   "version": "3.7.13"
  },
  "orig_nbformat": 4,
  "vscode": {
   "interpreter": {
    "hash": "d642244241eddb21998db770019d05497614dcb7506cc171d9710b86e243af80"
   }
  }
 },
 "nbformat": 4,
 "nbformat_minor": 2
}
