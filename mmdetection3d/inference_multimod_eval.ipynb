{
 "cells": [
  {
   "cell_type": "code",
   "execution_count": 1,
   "metadata": {},
   "outputs": [
    {
     "name": "stdout",
     "output_type": "stream",
     "text": [
      "/home/015312115/mmdetection3d\n"
     ]
    }
   ],
   "source": [
    "import os\n",
    "os.chdir('./mmdetection3d')\n",
    "print(os.getcwd())"
   ]
  },
  {
   "cell_type": "code",
   "execution_count": 2,
   "metadata": {},
   "outputs": [
    {
     "name": "stderr",
     "output_type": "stream",
     "text": [
      "/home/015312115/mmdetection3d/mmdet3d/models/backbones/mink_resnet.py:10: UserWarning: Please follow `getting_started.md` to install MinkowskiEngine.`\n",
      "  'Please follow `getting_started.md` to install MinkowskiEngine.`')\n"
     ]
    }
   ],
   "source": [
    "from mmdet3d.datasets.kitti_dataset import KittiDataset\n",
    "from mmdet3d.apis import init_model, inference_detector, show_result_meshlab\n",
    "from mmdet3d.core.visualizer.show_result import show_multi_modality_result\n",
    "import cv2\n",
    "from pathlib import Path\n",
    "import time\n",
    "import numpy as np"
   ]
  },
  {
   "cell_type": "markdown",
   "metadata": {},
   "source": [
    "### Initialize Dataset Info"
   ]
  },
  {
   "cell_type": "code",
   "execution_count": 3,
   "metadata": {},
   "outputs": [],
   "source": [
    "data_root = 'data/kitti'\n",
    "ann_file = 'data/kitti/kitti_infos_train.pkl'\n",
    "classes = ['Pedestrian', 'Cyclist', 'Car']\n",
    "pts_prefix = 'velodyne'\n",
    "pipeline = [\n",
    "    dict(\n",
    "        type='LoadPointsFromFile',\n",
    "        coord_type='LIDAR',\n",
    "        load_dim=4,\n",
    "        use_dim=4,\n",
    "        file_client_args=dict(backend='disk')),\n",
    "    dict(\n",
    "        type='MultiScaleFlipAug3D',\n",
    "        img_scale=(1333, 800),\n",
    "        pts_scale_ratio=1,\n",
    "        flip=False,\n",
    "        transforms=[\n",
    "            dict(\n",
    "                type='GlobalRotScaleTrans',\n",
    "                rot_range=[0, 0],\n",
    "                scale_ratio_range=[1.0, 1.0],\n",
    "                translation_std=[0, 0, 0]),\n",
    "            dict(type='RandomFlip3D'),\n",
    "            dict(\n",
    "                type='PointsRangeFilter',\n",
    "                point_cloud_range=[0, -40, -3, 70.4, 40, 1]),\n",
    "            dict(\n",
    "                type='DefaultFormatBundle3D',\n",
    "                class_names=classes,\n",
    "                with_label=False),\n",
    "            dict(type='Collect3D', keys=['points'])\n",
    "        ])\n",
    "]\n",
    "modality = dict(use_lidar=True, use_camera=False)\n",
    "split = 'training'\n",
    "\n",
    "kitti_dataset = KittiDataset(data_root, ann_file, split, pts_prefix, pipeline, classes, modality)"
   ]
  },
  {
   "cell_type": "markdown",
   "metadata": {},
   "source": [
    "## SECOND - 3D Car"
   ]
  },
  {
   "cell_type": "code",
   "execution_count": 4,
   "metadata": {},
   "outputs": [
    {
     "name": "stderr",
     "output_type": "stream",
     "text": [
      "/home/015312115/mmdetection3d/mmdet3d/models/dense_heads/anchor3d_head.py:85: UserWarning: dir_offset and dir_limit_offset will be depressed and be incorporated into box coder in the future\n",
      "  'dir_offset and dir_limit_offset will be depressed and be '\n"
     ]
    },
    {
     "name": "stdout",
     "output_type": "stream",
     "text": [
      "load checkpoint from local path: ./checkpoints/hv_second_secfpn_6x8_80e_kitti-3d-car_20200620_230238-393f000c.pth\n"
     ]
    }
   ],
   "source": [
    "cfg = 'hv_second_secfpn_6x8_80e_kitti-3d-car'\n",
    "config_file = './configs/second/hv_second_secfpn_6x8_80e_kitti-3d-car.py'\n",
    "checkpoint_file = './checkpoints/hv_second_secfpn_6x8_80e_kitti-3d-car_20200620_230238-393f000c.pth'\n",
    "\n",
    "model = init_model(config_file, checkpoint_file, device='cuda:0')"
   ]
  },
  {
   "cell_type": "code",
   "execution_count": 5,
   "metadata": {},
   "outputs": [
    {
     "name": "stdout",
     "output_type": "stream",
     "text": [
      "Frame not processed: 000042\n",
      "Frame not processed: 000044\n"
     ]
    }
   ],
   "source": [
    "# Run inference on first N frames and generate 3D boxes, projected on 2D images\n",
    "for idx in range(50):\n",
    "    vis_result_dir = f'./visualize/{cfg}'\n",
    "\n",
    "    # Visualize Results\n",
    "\n",
    "    # get information from dataset\n",
    "    data_info = kitti_dataset.get_data_info(idx)\n",
    "    pcd = data_info['pts_filename']\n",
    "\n",
    "    # get inference result\n",
    "    result, data = inference_detector(model, pcd)\n",
    "\n",
    "    # get data for multi-modal result\n",
    "    kitti_dataset.pre_pipeline(data_info)\n",
    "    example = kitti_dataset.pipeline(data_info)\n",
    "\n",
    "    img_path = data_info['img_info']['filename']\n",
    "    img = cv2.imread(img_path)\n",
    "    gt_bboxes = data_info['ann_info']['gt_bboxes_3d']\n",
    "    pred_bboxes = result[0]['boxes_3d']\n",
    "    img_metas = example['img_metas']\n",
    "    proj_mat = data_info['lidar2img']\n",
    "\n",
    "    # get frame number\n",
    "    frame_num = Path(img_path).name.strip('.png')\n",
    "\n",
    "    try:\n",
    "        # write multi modality result image\n",
    "        show_multi_modality_result(img, gt_bboxes, pred_bboxes, proj_mat, \n",
    "                vis_result_dir, frame_num, box_mode='lidar', img_metas=img_metas,\n",
    "                gt_bbox_color=(255,0,0), pred_bbox_color=(0,255,0))\n",
    "\n",
    "        # combine pred and gt results to singe image\n",
    "        frame_dir = f'{vis_result_dir}/{frame_num}'\n",
    "        img_pred = cv2.imread(f'{frame_dir}/{frame_num}_pred.png')\n",
    "        img_gt = cv2.imread(f'{frame_dir}/{frame_num}_gt.png')\n",
    "        img_combined = cv2.addWeighted(img_pred, 0.5, img_gt, 0.5, 0)\n",
    "        cv2.imwrite(f'{frame_dir}/{frame_num}_comb.png', img_combined)\n",
    "\n",
    "        show_result_meshlab(data, result, f'./visualize/{cfg}')\n",
    "    except:\n",
    "        print(f'Frame not processed: {frame_num}')"
   ]
  },
  {
   "cell_type": "code",
   "execution_count": null,
   "metadata": {},
   "outputs": [],
   "source": [
    "# benchmark for frame times\n",
    "!python tools/analysis_tools/benchmark.py {config_file} {checkpoint_file} --samples 1000"
   ]
  },
  {
   "cell_type": "markdown",
   "metadata": {},
   "source": [
    "### Doesn't work on Jupyter.. output from CLI:  \n",
    "...  \n",
    "Done image [1000/ 1000], fps: 17.6 img / s  \n",
    "Done image [1050/ 1000], fps: 17.6 img / s  \n",
    "Done image [1100/ 1000], fps: 17.6 img / s  \n"
   ]
  },
  {
   "cell_type": "code",
   "execution_count": null,
   "metadata": {},
   "outputs": [],
   "source": [
    "# run test for evaluation metrics\n",
    "!python tools/test.py {config_file} {checkpoint_file} --out results/{cfg}.pkl --eval mAP"
   ]
  },
  {
   "cell_type": "markdown",
   "metadata": {},
   "source": [
    "### Doesn't work on Jupyter.. output from CLI:\n",
    "----------- AP11 Results ------------\n",
    "\n",
    "Car AP11@0.70, 0.70, 0.70:\n",
    "bbox AP11:89.6458, 87.2916, 83.8113\n",
    "bev  AP11:88.5880, 82.4283, 77.8551\n",
    "3d   AP11:79.8306, 65.1712, 61.5498\n",
    "aos  AP11:83.19, 76.79, 73.14\n",
    "Car AP11@0.70, 0.50, 0.50:\n",
    "bbox AP11:89.6458, 87.2916, 83.8113\n",
    "bev  AP11:90.3632, 89.2448, 88.0912\n",
    "3d   AP11:90.1994, 88.7744, 87.0859\n",
    "aos  AP11:83.19, 76.79, 73.14\n",
    "\n",
    "----------- AP40 Results ------------\n",
    "\n",
    "Car AP40@0.70, 0.70, 0.70:\n",
    "bbox AP40:95.2842, 88.1286, 85.0026\n",
    "bev  AP40:91.8911, 84.2700, 79.4809\n",
    "3d   AP40:79.6917, 66.7353, 60.5476\n",
    "aos  AP40:87.93, 76.83, 73.28\n",
    "Car AP40@0.70, 0.50, 0.50:\n",
    "bbox AP40:95.2842, 88.1286, 85.0026\n",
    "bev  AP40:96.2568, 93.2672, 89.0795\n",
    "3d   AP40:95.9810, 91.2978, 88.3686\n",
    "aos  AP40:87.93, 76.83, 73.28\n",
    "\n",
    "{'KITTI/Car_3D_AP11_easy_strict': 79.83062966779826, 'KITTI/Car_BEV_AP11_easy_strict': 88.58802421554634, 'KITTI/Car_2D_AP11_easy_strict': 89.64578766776405, 'KITTI/Car_3D_AP11_moderate_strict': 65.17121474728967, 'KITTI/Car_BEV_AP11_moderate_strict': 82.42832885411896, 'KITTI/Car_2D_AP11_moderate_strict': 87.29162882392338, 'KITTI/Car_3D_AP11_hard_strict': 61.549807208906934, 'KITTI/Car_BEV_AP11_hard_strict': 77.85507635089097, 'KITTI/Car_2D_AP11_hard_strict': 83.81125076905737, 'KITTI/Car_3D_AP11_easy_loose': 90.19941548722413, 'KITTI/Car_BEV_AP11_easy_loose': 90.36316578307999, 'KITTI/Car_2D_AP11_easy_loose': 89.64578766776405, 'KITTI/Car_3D_AP11_moderate_loose': 88.77440939634663, 'KITTI/Car_BEV_AP11_moderate_loose': 89.24479160773001, 'KITTI/Car_2D_AP11_moderate_loose': 87.29162882392338, 'KITTI/Car_3D_AP11_hard_loose': 87.08591071849486, 'KITTI/Car_BEV_AP11_hard_loose': 88.0911625655181, 'KITTI/Car_2D_AP11_hard_loose': 83.81125076905737, 'KITTI/Car_3D_AP40_easy_strict': 79.69171431231406, 'KITTI/Car_BEV_AP40_easy_strict': 91.89108370251878, 'KITTI/Car_2D_AP40_easy_strict': 95.284171819415, 'KITTI/Car_3D_AP40_moderate_strict': 66.73525737109627, 'KITTI/Car_BEV_AP40_moderate_strict': 84.2700050122073, 'KITTI/Car_2D_AP40_moderate_strict': 88.12860013375555, 'KITTI/Car_3D_AP40_hard_strict': 60.547591798506204, 'KITTI/Car_BEV_AP40_hard_strict': 79.48087607263709, 'KITTI/Car_2D_AP40_hard_strict': 85.00255713226694, 'KITTI/Car_3D_AP40_easy_loose': 95.98101966783057, 'KITTI/Car_BEV_AP40_easy_loose': 96.25677776446494, 'KITTI/Car_2D_AP40_easy_loose': 95.284171819415, 'KITTI/Car_3D_AP40_moderate_loose': 91.29781710541863, 'KITTI/Car_BEV_AP40_moderate_loose': 93.26717957725904, 'KITTI/Car_2D_AP40_moderate_loose': 88.12860013375555, 'KITTI/Car_3D_AP40_hard_loose': 88.36862254390748, 'KITTI/Car_BEV_AP40_hard_loose': 89.07952990740313, 'KITTI/Car_2D_AP40_hard_loose': 85.00255713226694}"
   ]
  },
  {
   "cell_type": "markdown",
   "metadata": {},
   "source": [
    "## SECOND 3D 3-class"
   ]
  },
  {
   "cell_type": "code",
   "execution_count": 14,
   "metadata": {},
   "outputs": [
    {
     "name": "stdout",
     "output_type": "stream",
     "text": [
      "load checkpoint from local path: ./checkpoints/hv_second_secfpn_6x8_80e_kitti-3d-3class_20210831_022017-ae782e87.pth\n"
     ]
    }
   ],
   "source": [
    "cfg = 'hv_second_secfpn_6x8_80e_kitti-3d-3class'\n",
    "config_file = './configs/second/hv_second_secfpn_6x8_80e_kitti-3d-3class.py'\n",
    "checkpoint_file = './checkpoints/hv_second_secfpn_6x8_80e_kitti-3d-3class_20210831_022017-ae782e87.pth'\n",
    "\n",
    "model = init_model(config_file, checkpoint_file, device='cuda:0')"
   ]
  },
  {
   "cell_type": "code",
   "execution_count": 15,
   "metadata": {},
   "outputs": [
    {
     "name": "stdout",
     "output_type": "stream",
     "text": [
      "Frame not processed: 000001\n",
      "Frame not processed: 000023\n",
      "Frame not processed: 000044\n"
     ]
    }
   ],
   "source": [
    "# Run inference on first N frames and generate 3D boxes, projected on 2D images\n",
    "for idx in range(50):\n",
    "    vis_result_dir = f'./visualize/{cfg}'\n",
    "\n",
    "    # Visualize Results\n",
    "\n",
    "    # get information from dataset\n",
    "    data_info = kitti_dataset.get_data_info(idx)\n",
    "    pcd = data_info['pts_filename']\n",
    "\n",
    "    # get inference result\n",
    "    result, data = inference_detector(model, pcd)\n",
    "\n",
    "    # get data for multi-modal result\n",
    "    kitti_dataset.pre_pipeline(data_info)\n",
    "    example = kitti_dataset.pipeline(data_info)\n",
    "\n",
    "    img_path = data_info['img_info']['filename']\n",
    "    img = cv2.imread(img_path)\n",
    "    gt_bboxes = data_info['ann_info']['gt_bboxes_3d']\n",
    "    pred_bboxes = result[0]['boxes_3d']\n",
    "    img_metas = example['img_metas']\n",
    "    proj_mat = data_info['lidar2img']\n",
    "\n",
    "    # get frame number\n",
    "    frame_num = Path(img_path).name.strip('.png')\n",
    "\n",
    "    try:\n",
    "        # write multi modality result image\n",
    "        show_multi_modality_result(img, gt_bboxes, pred_bboxes, proj_mat, \n",
    "                vis_result_dir, frame_num, box_mode='lidar', img_metas=img_metas,\n",
    "                gt_bbox_color=(255,0,0), pred_bbox_color=(0,255,0))\n",
    "\n",
    "        # combine pred and gt results to singe image\n",
    "        frame_dir = f'{vis_result_dir}/{frame_num}'\n",
    "        img_pred = cv2.imread(f'{frame_dir}/{frame_num}_pred.png')\n",
    "        img_gt = cv2.imread(f'{frame_dir}/{frame_num}_gt.png')\n",
    "        img_combined = cv2.addWeighted(img_pred, 0.5, img_gt, 0.5, 0)\n",
    "        cv2.imwrite(f'{frame_dir}/{frame_num}_comb.png', img_combined)\n",
    "\n",
    "        show_result_meshlab(data, result, f'./visualize/{cfg}')\n",
    "    except:\n",
    "        print(f'Frame not processed: {frame_num}')"
   ]
  },
  {
   "cell_type": "code",
   "execution_count": null,
   "metadata": {},
   "outputs": [],
   "source": [
    "# benchmark for frame times\n",
    "!python tools/analysis_tools/benchmark.py {config_file} {checkpoint_file}"
   ]
  },
  {
   "cell_type": "markdown",
   "metadata": {},
   "source": [
    "### Doesn't work in Jupyter.. CLI output:\n",
    "Done image [50 / 2000], fps: 16.1 img / s\n",
    "Done image [100/ 2000], fps: 16.0 img / s\n",
    "Done image [150/ 2000], fps: 16.0 img / s"
   ]
  },
  {
   "cell_type": "code",
   "execution_count": null,
   "metadata": {},
   "outputs": [],
   "source": [
    "# run test for evaluation metrics\n",
    "!python tools/test.py {config_file} {checkpoint_file} --out results/{cfg}.pkl --eval mAP"
   ]
  },
  {
   "cell_type": "markdown",
   "metadata": {},
   "source": [
    "### Doesn't work in Jupyter.. CLI output:\n",
    "----------- AP11 Results ------------\n",
    "\n",
    "Pedestrian AP11@0.50, 0.50, 0.50:\n",
    "bbox AP11:73.7550, 68.4076, 64.6571\n",
    "bev  AP11:69.2206, 63.5570, 60.4052\n",
    "3d   AP11:63.3788, 60.5671, 54.0604\n",
    "aos  AP11:67.36, 61.81, 58.34\n",
    "Pedestrian AP11@0.50, 0.25, 0.25:\n",
    "bbox AP11:73.7550, 68.4076, 64.6571\n",
    "bev  AP11:80.7587, 76.1746, 72.4978\n",
    "3d   AP11:80.7399, 76.0979, 72.3720\n",
    "aos  AP11:67.36, 61.81, 58.34\n",
    "Cyclist AP11@0.50, 0.50, 0.50:\n",
    "bbox AP11:91.2581, 85.2285, 83.1152\n",
    "bev  AP11:87.8381, 80.4979, 76.1620\n",
    "3d   AP11:86.4992, 78.2987, 74.7236\n",
    "aos  AP11:90.71, 84.50, 82.44\n",
    "Cyclist AP11@0.50, 0.25, 0.25:\n",
    "bbox AP11:91.2581, 85.2285, 83.1152\n",
    "bev  AP11:91.0090, 82.7671, 79.9255\n",
    "3d   AP11:91.0090, 82.7671, 79.9255\n",
    "aos  AP11:90.71, 84.50, 82.44\n",
    "Car AP11@0.70, 0.70, 0.70:\n",
    "bbox AP11:90.8836, 89.9547, 88.9471\n",
    "bev  AP11:90.6845, 88.7383, 85.9317\n",
    "3d   AP11:89.2603, 78.5222, 76.0248\n",
    "aos  AP11:90.67, 89.26, 87.95\n",
    "Car AP11@0.70, 0.50, 0.50:\n",
    "bbox AP11:90.8836, 89.9547, 88.9471\n",
    "bev  AP11:90.8662, 90.1417, 89.4695\n",
    "3d   AP11:90.8662, 90.0687, 89.2961\n",
    "aos  AP11:90.67, 89.26, 87.95\n",
    "\n",
    "Overall AP11@easy, moderate, hard:\n",
    "bbox AP11:85.2989, 81.1969, 78.9065\n",
    "bev  AP11:82.5811, 77.5977, 74.1663\n",
    "3d   AP11:79.7128, 72.4627, 68.2696\n",
    "aos  AP11:82.91, 78.52, 76.24\n",
    "\n",
    "----------- AP40 Results ------------\n",
    "\n",
    "Pedestrian AP40@0.50, 0.50, 0.50:\n",
    "bbox AP40:74.3547, 69.4173, 64.2615\n",
    "bev  AP40:70.2345, 64.4968, 59.4465\n",
    "3d   AP40:64.9544, 60.2418, 54.0644\n",
    "aos  AP40:67.39, 62.13, 57.31\n",
    "Pedestrian AP40@0.50, 0.25, 0.25:\n",
    "bbox AP40:74.3547, 69.4173, 64.2615\n",
    "bev  AP40:82.7000, 78.3221, 72.9153\n",
    "3d   AP40:82.6694, 78.1682, 72.7831\n",
    "aos  AP40:67.39, 62.13, 57.31\n",
    "Cyclist AP40@0.50, 0.50, 0.50:\n",
    "bbox AP40:93.4897, 88.3711, 85.1957\n",
    "bev  AP40:91.7921, 82.3268, 77.7973\n",
    "3d   AP40:90.3307, 80.3776, 75.8640\n",
    "aos  AP40:92.91, 87.55, 84.38\n",
    "Cyclist AP40@0.50, 0.25, 0.25:\n",
    "bbox AP40:93.4897, 88.3711, 85.1957\n",
    "bev  AP40:93.3629, 85.7862, 81.4629\n",
    "3d   AP40:93.3629, 85.7862, 81.4629\n",
    "aos  AP40:92.91, 87.55, 84.38\n",
    "Car AP40@0.70, 0.70, 0.70:\n",
    "bbox AP40:96.9766, 93.0415, 90.1944\n",
    "bev  AP40:96.5077, 91.5413, 86.6969\n",
    "3d   AP40:92.3159, 82.0360, 76.5721\n",
    "aos  AP40:96.69, 92.26, 89.15\n",
    "Car AP40@0.70, 0.50, 0.50:\n",
    "bbox AP40:96.9766, 93.0415, 90.1944\n",
    "bev  AP40:97.0193, 95.3207, 92.5971\n",
    "3d   AP40:96.9709, 95.2382, 92.4301\n",
    "aos  AP40:96.69, 92.26, 89.15\n",
    "\n",
    "Overall AP40@easy, moderate, hard:\n",
    "bbox AP40:88.2736, 83.6100, 79.8839\n",
    "bev  AP40:86.1781, 79.4550, 74.6469\n",
    "3d   AP40:82.5337, 74.2185, 68.8335\n",
    "aos  AP40:85.67, 80.65, 76.95\n",
    "\n",
    "{'KITTI/Pedestrian_3D_AP11_easy_strict': 63.378808836448705, 'KITTI/Pedestrian_BEV_AP11_easy_strict': 69.22062898682243, 'KITTI/Pedestrian_2D_AP11_easy_strict': 73.75497020422756, 'KITTI/Pedestrian_3D_AP11_moderate_strict': 60.56713375934933, 'KITTI/Pedestrian_BEV_AP11_moderate_strict': 63.556973590641356, 'KITTI/Pedestrian_2D_AP11_moderate_strict': 68.4075671949771, 'KITTI/Pedestrian_3D_AP11_hard_strict': 54.06039663605235, 'KITTI/Pedestrian_BEV_AP11_hard_strict': 60.405241976651226, 'KITTI/Pedestrian_2D_AP11_hard_strict': 64.65705156532951, 'KITTI/Pedestrian_3D_AP11_easy_loose': 80.7399435673157, 'KITTI/Pedestrian_BEV_AP11_easy_loose': 80.7587248503988, 'KITTI/Pedestrian_2D_AP11_easy_loose': 73.75497020422756, 'KITTI/Pedestrian_3D_AP11_moderate_loose': 76.09791797431441, 'KITTI/Pedestrian_BEV_AP11_moderate_loose': 76.17458778864685, 'KITTI/Pedestrian_2D_AP11_moderate_loose': 68.4075671949771, 'KITTI/Pedestrian_3D_AP11_hard_loose': 72.37197635528075, 'KITTI/Pedestrian_BEV_AP11_hard_loose': 72.49775995794508, 'KITTI/Pedestrian_2D_AP11_hard_loose': 64.65705156532951, 'KITTI/Cyclist_3D_AP11_easy_strict': 86.49915650409918, 'KITTI/Cyclist_BEV_AP11_easy_strict': 87.83805995449615, 'KITTI/Cyclist_2D_AP11_easy_strict': 91.25808747851212, 'KITTI/Cyclist_3D_AP11_moderate_strict': 78.2987054397223, 'KITTI/Cyclist_BEV_AP11_moderate_strict': 80.49785507397532, 'KITTI/Cyclist_2D_AP11_moderate_strict': 85.22847270041788, 'KITTI/Cyclist_3D_AP11_hard_strict': 74.72358917697693, 'KITTI/Cyclist_BEV_AP11_hard_strict': 76.16198551229279, 'KITTI/Cyclist_2D_AP11_hard_strict': 83.1152134567463, 'KITTI/Cyclist_3D_AP11_easy_loose': 91.00902072313617, 'KITTI/Cyclist_BEV_AP11_easy_loose': 91.00902072313617, 'KITTI/Cyclist_2D_AP11_easy_loose': 91.25808747851212, 'KITTI/Cyclist_3D_AP11_moderate_loose': 82.76713104083579, 'KITTI/Cyclist_BEV_AP11_moderate_loose': 82.76713104083579, 'KITTI/Cyclist_2D_AP11_moderate_loose': 85.22847270041788, 'KITTI/Cyclist_3D_AP11_hard_loose': 79.9255363579469, 'KITTI/Cyclist_BEV_AP11_hard_loose': 79.9255363579469, 'KITTI/Cyclist_2D_AP11_hard_loose': 83.1152134567463, 'KITTI/Car_3D_AP11_easy_strict': 89.26029076896285, 'KITTI/Car_BEV_AP11_easy_strict': 90.68452363403246, 'KITTI/Car_2D_AP11_easy_strict': 90.88364993215738, 'KITTI/Car_3D_AP11_moderate_strict': 78.52220845552267, 'KITTI/Car_BEV_AP11_moderate_strict': 88.73826840227028, 'KITTI/Car_2D_AP11_moderate_strict': 89.95469772849603, 'KITTI/Car_3D_AP11_hard_strict': 76.02475671188385, 'KITTI/Car_BEV_AP11_hard_strict': 85.93167484758585, 'KITTI/Car_2D_AP11_hard_strict': 88.9470978144287, 'KITTI/Car_3D_AP11_easy_loose': 90.8661842086398, 'KITTI/Car_BEV_AP11_easy_loose': 90.8661842086398, 'KITTI/Car_2D_AP11_easy_loose': 90.88364993215738, 'KITTI/Car_3D_AP11_moderate_loose': 90.06872718339079, 'KITTI/Car_BEV_AP11_moderate_loose': 90.14166345552775, 'KITTI/Car_2D_AP11_moderate_loose': 89.95469772849603, 'KITTI/Car_3D_AP11_hard_loose': 89.29611270994666, 'KITTI/Car_BEV_AP11_hard_loose': 89.46950152045356, 'KITTI/Car_2D_AP11_hard_loose': 88.9470978144287, 'KITTI/Overall_3D_AP11_easy': 79.71275203650357, 'KITTI/Overall_BEV_AP11_easy': 82.58107085845035, 'KITTI/Overall_2D_AP11_easy': 85.29890253829903, 'KITTI/Overall_3D_AP11_moderate': 72.46268255153143, 'KITTI/Overall_BEV_AP11_moderate': 77.59769902229566, 'KITTI/Overall_2D_AP11_moderate': 81.19691254129701, 'KITTI/Overall_3D_AP11_hard': 68.26958084163772, 'KITTI/Overall_BEV_AP11_hard': 74.16630077884328, 'KITTI/Overall_2D_AP11_hard': 78.90645427883484, 'KITTI/Pedestrian_3D_AP40_easy_strict': 64.95443581334301, 'KITTI/Pedestrian_BEV_AP40_easy_strict': 70.23446297110333, 'KITTI/Pedestrian_2D_AP40_easy_strict': 74.35471503152448, 'KITTI/Pedestrian_3D_AP40_moderate_strict': 60.24181698916367, 'KITTI/Pedestrian_BEV_AP40_moderate_strict': 64.49677030489973, 'KITTI/Pedestrian_2D_AP40_moderate_strict': 69.4173046038715, 'KITTI/Pedestrian_3D_AP40_hard_strict': 54.06439663637721, 'KITTI/Pedestrian_BEV_AP40_hard_strict': 59.44648819763664, 'KITTI/Pedestrian_2D_AP40_hard_strict': 64.26148385763007, 'KITTI/Pedestrian_3D_AP40_easy_loose': 82.6693543031793, 'KITTI/Pedestrian_BEV_AP40_easy_loose': 82.6999659332612, 'KITTI/Pedestrian_2D_AP40_easy_loose': 74.35471503152448, 'KITTI/Pedestrian_3D_AP40_moderate_loose': 78.16815414539106, 'KITTI/Pedestrian_BEV_AP40_moderate_loose': 78.32207905969324, 'KITTI/Pedestrian_2D_AP40_moderate_loose': 69.4173046038715, 'KITTI/Pedestrian_3D_AP40_hard_loose': 72.78308923160193, 'KITTI/Pedestrian_BEV_AP40_hard_loose': 72.91527610736948, 'KITTI/Pedestrian_2D_AP40_hard_loose': 64.26148385763007, 'KITTI/Cyclist_3D_AP40_easy_strict': 90.33072942191971, 'KITTI/Cyclist_BEV_AP40_easy_strict': 91.79209534088216, 'KITTI/Cyclist_2D_AP40_easy_strict': 93.48966504062123, 'KITTI/Cyclist_3D_AP40_moderate_strict': 80.37761775322097, 'KITTI/Cyclist_BEV_AP40_moderate_strict': 82.32682616980748, 'KITTI/Cyclist_2D_AP40_moderate_strict': 88.37105993553249, 'KITTI/Cyclist_3D_AP40_hard_strict': 75.86402264879266, 'KITTI/Cyclist_BEV_AP40_hard_strict': 77.79728850465564, 'KITTI/Cyclist_2D_AP40_hard_strict': 85.1957074441176, 'KITTI/Cyclist_3D_AP40_easy_loose': 93.36294375696464, 'KITTI/Cyclist_BEV_AP40_easy_loose': 93.36294375696464, 'KITTI/Cyclist_2D_AP40_easy_loose': 93.48966504062123, 'KITTI/Cyclist_3D_AP40_moderate_loose': 85.78616184628982, 'KITTI/Cyclist_BEV_AP40_moderate_loose': 85.78616184628982, 'KITTI/Cyclist_2D_AP40_moderate_loose': 88.37105993553249, 'KITTI/Cyclist_3D_AP40_hard_loose': 81.46290145710988, 'KITTI/Cyclist_BEV_AP40_hard_loose': 81.46290145710988, 'KITTI/Cyclist_2D_AP40_hard_loose': 85.1957074441176, 'KITTI/Car_3D_AP40_easy_strict': 92.31585936578668, 'KITTI/Car_BEV_AP40_easy_strict': 96.5076799978313, 'KITTI/Car_2D_AP40_easy_strict': 96.97655747275691, 'KITTI/Car_3D_AP40_moderate_strict': 82.03598987337992, 'KITTI/Car_BEV_AP40_moderate_strict': 91.54127493702988, 'KITTI/Car_2D_AP40_moderate_strict': 93.04151587194201, 'KITTI/Car_3D_AP40_hard_strict': 76.57210808197235, 'KITTI/Car_BEV_AP40_hard_strict': 86.69686358954954, 'KITTI/Car_2D_AP40_hard_strict': 90.19443616118072, 'KITTI/Car_3D_AP40_easy_loose': 96.97090666658067, 'KITTI/Car_BEV_AP40_easy_loose': 97.01934767289137, 'KITTI/Car_2D_AP40_easy_loose': 96.97655747275691, 'KITTI/Car_3D_AP40_moderate_loose': 95.23816453605511, 'KITTI/Car_BEV_AP40_moderate_loose': 95.3207301353992, 'KITTI/Car_2D_AP40_moderate_loose': 93.04151587194201, 'KITTI/Car_3D_AP40_hard_loose': 92.43012627686896, 'KITTI/Car_BEV_AP40_hard_loose': 92.59705109140491, 'KITTI/Car_2D_AP40_hard_loose': 90.19443616118072, 'KITTI/Overall_3D_AP40_easy': 82.53367486701647, 'KITTI/Overall_BEV_AP40_easy': 86.17807943660559, 'KITTI/Overall_2D_AP40_easy': 88.27364584830087, 'KITTI/Overall_3D_AP40_moderate': 74.21847487192152, 'KITTI/Overall_BEV_AP40_moderate': 79.45495713724569, 'KITTI/Overall_2D_AP40_moderate': 83.60996013711532, 'KITTI/Overall_3D_AP40_hard': 68.83350912238073, 'KITTI/Overall_BEV_AP40_hard': 74.6468800972806, 'KITTI/Overall_2D_AP40_hard': 79.88387582097613}"
   ]
  },
  {
   "cell_type": "markdown",
   "metadata": {},
   "source": [
    "## PointPillars 3D Car"
   ]
  },
  {
   "cell_type": "code",
   "execution_count": 16,
   "metadata": {},
   "outputs": [
    {
     "name": "stdout",
     "output_type": "stream",
     "text": [
      "load checkpoint from local path: checkpoints/hv_pointpillars_secfpn_6x8_160e_kitti-3d-car_20220331_134606-d42d15ed.pth\n"
     ]
    }
   ],
   "source": [
    "cfg = 'hv_pointpillars_secfpn_6x8_160e_kitti-3d-car'\n",
    "config_file = 'configs/pointpillars/hv_pointpillars_secfpn_6x8_160e_kitti-3d-car.py'\n",
    "checkpoint_file = 'checkpoints/hv_pointpillars_secfpn_6x8_160e_kitti-3d-car_20220331_134606-d42d15ed.pth'\n",
    "\n",
    "model = init_model(config_file, checkpoint_file, device='cuda:0')"
   ]
  },
  {
   "cell_type": "code",
   "execution_count": 17,
   "metadata": {},
   "outputs": [
    {
     "name": "stdout",
     "output_type": "stream",
     "text": [
      "Frame not processed: 000019\n",
      "Frame not processed: 000044\n"
     ]
    }
   ],
   "source": [
    "# Run inference on first N frames and generate 3D boxes, projected on 2D images\n",
    "for idx in range(50):\n",
    "    vis_result_dir = f'./visualize/{cfg}'\n",
    "\n",
    "    # Visualize Results\n",
    "\n",
    "    # get information from dataset\n",
    "    data_info = kitti_dataset.get_data_info(idx)\n",
    "    pcd = data_info['pts_filename']\n",
    "\n",
    "    # get inference result\n",
    "    result, data = inference_detector(model, pcd)\n",
    "\n",
    "    # get data for multi-modal result\n",
    "    kitti_dataset.pre_pipeline(data_info)\n",
    "    example = kitti_dataset.pipeline(data_info)\n",
    "\n",
    "    img_path = data_info['img_info']['filename']\n",
    "    img = cv2.imread(img_path)\n",
    "    gt_bboxes = data_info['ann_info']['gt_bboxes_3d']\n",
    "    pred_bboxes = result[0]['boxes_3d']\n",
    "    img_metas = example['img_metas']\n",
    "    proj_mat = data_info['lidar2img']\n",
    "\n",
    "    # get frame number\n",
    "    frame_num = Path(img_path).name.strip('.png')\n",
    "\n",
    "    try:\n",
    "        # write multi modality result image\n",
    "        show_multi_modality_result(img, gt_bboxes, pred_bboxes, proj_mat, \n",
    "                vis_result_dir, frame_num, box_mode='lidar', img_metas=img_metas,\n",
    "                gt_bbox_color=(255,0,0), pred_bbox_color=(0,255,0))\n",
    "\n",
    "        # combine pred and gt results to singe image\n",
    "        frame_dir = f'{vis_result_dir}/{frame_num}'\n",
    "        img_pred = cv2.imread(f'{frame_dir}/{frame_num}_pred.png')\n",
    "        img_gt = cv2.imread(f'{frame_dir}/{frame_num}_gt.png')\n",
    "        img_combined = cv2.addWeighted(img_pred, 0.5, img_gt, 0.5, 0)\n",
    "        cv2.imwrite(f'{frame_dir}/{frame_num}_comb.png', img_combined)\n",
    "\n",
    "        show_result_meshlab(data, result, f'./visualize/{cfg}')\n",
    "    except:\n",
    "        print(f'Frame not processed: {frame_num}')"
   ]
  },
  {
   "cell_type": "code",
   "execution_count": 14,
   "metadata": {},
   "outputs": [
    {
     "name": "stdout",
     "output_type": "stream",
     "text": [
      "/home/015312115/mmdetection3d/mmdet3d/models/backbones/mink_resnet.py:10: UserWarning: Please follow `getting_started.md` to install MinkowskiEngine.`\n",
      "  'Please follow `getting_started.md` to install MinkowskiEngine.`')\n",
      "/home/015312115/mmdetection3d/mmdet3d/models/dense_heads/anchor3d_head.py:85: UserWarning: dir_offset and dir_limit_offset will be depressed and be incorporated into box coder in the future\n",
      "  'dir_offset and dir_limit_offset will be depressed and be '\n",
      "load checkpoint from local path: checkpoints/hv_pointpillars_secfpn_6x8_160e_kitti-3d-car_20220331_134606-d42d15ed.pth\n",
      "Done image [50 / 2000], fps: 28.1 img / s\n",
      "Done image [100/ 2000], fps: 28.2 img / s\n",
      "Done image [150/ 2000], fps: 28.1 img / s\n",
      "Done image [200/ 2000], fps: 28.1 img / s\n",
      "Done image [250/ 2000], fps: 28.2 img / s\n",
      "Done image [300/ 2000], fps: 28.2 img / s\n",
      "Done image [350/ 2000], fps: 28.2 img / s\n",
      "Done image [400/ 2000], fps: 28.2 img / s\n",
      "Done image [450/ 2000], fps: 28.2 img / s\n",
      "Done image [500/ 2000], fps: 28.1 img / s\n",
      "Done image [550/ 2000], fps: 28.2 img / s\n",
      "Done image [600/ 2000], fps: 28.2 img / s\n",
      "Done image [650/ 2000], fps: 28.1 img / s\n",
      "Done image [700/ 2000], fps: 28.2 img / s\n",
      "Done image [750/ 2000], fps: 28.2 img / s\n",
      "Done image [800/ 2000], fps: 28.2 img / s\n",
      "Done image [850/ 2000], fps: 28.2 img / s\n",
      "Done image [900/ 2000], fps: 28.2 img / s\n",
      "Done image [950/ 2000], fps: 28.2 img / s\n",
      "Done image [1000/ 2000], fps: 28.2 img / s\n",
      "Done image [1050/ 2000], fps: 28.2 img / s\n",
      "Done image [1100/ 2000], fps: 28.2 img / s\n",
      "Done image [1150/ 2000], fps: 28.2 img / s\n",
      "Done image [1200/ 2000], fps: 28.2 img / s\n",
      "Done image [1250/ 2000], fps: 28.1 img / s\n",
      "Done image [1300/ 2000], fps: 28.1 img / s\n",
      "Done image [1350/ 2000], fps: 28.1 img / s\n",
      "Done image [1400/ 2000], fps: 28.1 img / s\n",
      "Done image [1450/ 2000], fps: 28.1 img / s\n",
      "\u001b[0m"
     ]
    }
   ],
   "source": [
    "# benchmark for frame times\n",
    "!python tools/analysis_tools/benchmark.py {config_file} {checkpoint_file}"
   ]
  },
  {
   "cell_type": "code",
   "execution_count": 15,
   "metadata": {},
   "outputs": [
    {
     "name": "stdout",
     "output_type": "stream",
     "text": [
      "/home/015312115/mmdetection3d/mmdet3d/models/backbones/mink_resnet.py:10: UserWarning: Please follow `getting_started.md` to install MinkowskiEngine.`\n",
      "  'Please follow `getting_started.md` to install MinkowskiEngine.`')\n",
      "/home/015312115/py37cu10/lib/python3.7/site-packages/mmdet/utils/setup_env.py:39: UserWarning: Setting OMP_NUM_THREADS environment variable for each process to be 1 in default, to avoid your system being overloaded, please further tune the variable for optimal performance in your application as needed.\n",
      "  f'Setting OMP_NUM_THREADS environment variable for each process '\n",
      "/home/015312115/py37cu10/lib/python3.7/site-packages/mmdet/utils/setup_env.py:49: UserWarning: Setting MKL_NUM_THREADS environment variable for each process to be 1 in default, to avoid your system being overloaded, please further tune the variable for optimal performance in your application as needed.\n",
      "  f'Setting MKL_NUM_THREADS environment variable for each process '\n",
      "/home/015312115/mmdetection3d/mmdet3d/models/dense_heads/anchor3d_head.py:85: UserWarning: dir_offset and dir_limit_offset will be depressed and be incorporated into box coder in the future\n",
      "  'dir_offset and dir_limit_offset will be depressed and be '\n",
      "load checkpoint from local path: checkpoints/hv_pointpillars_secfpn_6x8_160e_kitti-3d-car_20220331_134606-d42d15ed.pth\n",
      "[>>>>>>>>>>>>>>>>>>>>>>>>>>>] 1497/1497, 26.4 task/s, elapsed: 57s, ETA:     0s\n",
      "writing results to results/hv_pointpillars_secfpn_6x8_160e_kitti-3d-car.pkl\n",
      "\n",
      "Converting prediction to KITTI format\n",
      "[>>>>>>>>>>>>>>>>>>>>>>>>>>>] 1497/1497, 465.4 task/s, elapsed: 3s, ETA:     0s\n",
      "Result is saved to /tmp/tmp7s65psch/results.pkl.\n",
      "\n",
      "\n",
      "----------- AP11 Results ------------\n",
      "\n",
      "Car AP11@0.70, 0.70, 0.70:\n",
      "bbox AP11:97.6346, 90.3955, 89.8723\n",
      "bev  AP11:90.5147, 89.4159, 88.2075\n",
      "3d   AP11:89.9229, 84.8491, 79.1779\n",
      "aos  AP11:97.45, 90.10, 89.28\n",
      "Car AP11@0.70, 0.50, 0.50:\n",
      "bbox AP11:97.6346, 90.3955, 89.8723\n",
      "bev  AP11:97.8195, 90.5001, 90.0741\n",
      "3d   AP11:97.7466, 90.4909, 90.0567\n",
      "aos  AP11:97.45, 90.10, 89.28\n",
      "\n",
      "----------- AP40 Results ------------\n",
      "\n",
      "Car AP40@0.70, 0.70, 0.70:\n",
      "bbox AP40:98.9574, 95.7553, 93.0316\n",
      "bev  AP40:96.1335, 92.3187, 89.5079\n",
      "3d   AP40:95.1334, 86.3181, 83.2038\n",
      "aos  AP40:98.76, 95.39, 92.36\n",
      "Car AP40@0.70, 0.50, 0.50:\n",
      "bbox AP40:98.9574, 95.7553, 93.0316\n",
      "bev  AP40:99.0806, 95.9082, 93.3212\n",
      "3d   AP40:99.0552, 95.8825, 93.2785\n",
      "aos  AP40:98.76, 95.39, 92.36\n",
      "\n",
      "{'KITTI/Car_3D_AP11_easy_strict': 89.92293066116027, 'KITTI/Car_BEV_AP11_easy_strict': 90.51466047768089, 'KITTI/Car_2D_AP11_easy_strict': 97.63456862799859, 'KITTI/Car_3D_AP11_moderate_strict': 84.84906241200775, 'KITTI/Car_BEV_AP11_moderate_strict': 89.41593855846186, 'KITTI/Car_2D_AP11_moderate_strict': 90.39554285616269, 'KITTI/Car_3D_AP11_hard_strict': 79.17794700108789, 'KITTI/Car_BEV_AP11_hard_strict': 88.20750983773851, 'KITTI/Car_2D_AP11_hard_strict': 89.87232544293025, 'KITTI/Car_3D_AP11_easy_loose': 97.74662999950695, 'KITTI/Car_BEV_AP11_easy_loose': 97.81953246420365, 'KITTI/Car_2D_AP11_easy_loose': 97.63456862799859, 'KITTI/Car_3D_AP11_moderate_loose': 90.49092462326979, 'KITTI/Car_BEV_AP11_moderate_loose': 90.50013321399658, 'KITTI/Car_2D_AP11_moderate_loose': 90.39554285616269, 'KITTI/Car_3D_AP11_hard_loose': 90.0566937933117, 'KITTI/Car_BEV_AP11_hard_loose': 90.07414312637152, 'KITTI/Car_2D_AP11_hard_loose': 89.87232544293025, 'KITTI/Car_3D_AP40_easy_strict': 95.13337303659408, 'KITTI/Car_BEV_AP40_easy_strict': 96.13354810291248, 'KITTI/Car_2D_AP40_easy_strict': 98.95742984548518, 'KITTI/Car_3D_AP40_moderate_strict': 86.31806297945278, 'KITTI/Car_BEV_AP40_moderate_strict': 92.31870172619765, 'KITTI/Car_2D_AP40_moderate_strict': 95.755307292404, 'KITTI/Car_3D_AP40_hard_strict': 83.20379873934417, 'KITTI/Car_BEV_AP40_hard_strict': 89.50790671066366, 'KITTI/Car_2D_AP40_hard_strict': 93.03157774382139, 'KITTI/Car_3D_AP40_easy_loose': 99.05522684308026, 'KITTI/Car_BEV_AP40_easy_loose': 99.08058837737146, 'KITTI/Car_2D_AP40_easy_loose': 98.95742984548518, 'KITTI/Car_3D_AP40_moderate_loose': 95.88251833491714, 'KITTI/Car_BEV_AP40_moderate_loose': 95.9081575465064, 'KITTI/Car_2D_AP40_moderate_loose': 95.755307292404, 'KITTI/Car_3D_AP40_hard_loose': 93.27850208254802, 'KITTI/Car_BEV_AP40_hard_loose': 93.32121642535172, 'KITTI/Car_2D_AP40_hard_loose': 93.03157774382139}\n",
      "\u001b[0m"
     ]
    }
   ],
   "source": [
    "# run test for evaluation metrics\n",
    "!python tools/test.py {config_file} {checkpoint_file} --out results/{cfg}.pkl --eval mAP"
   ]
  },
  {
   "cell_type": "markdown",
   "metadata": {},
   "source": [
    "## PointPillars 3D 3-class"
   ]
  },
  {
   "cell_type": "code",
   "execution_count": 18,
   "metadata": {},
   "outputs": [
    {
     "name": "stdout",
     "output_type": "stream",
     "text": [
      "load checkpoint from local path: checkpoints/hv_pointpillars_secfpn_6x8_160e_kitti-3d-3class_20220301_150306-37dc2420.pth\n"
     ]
    }
   ],
   "source": [
    "cfg = 'hv_pointpillars_secfpn_6x8_160e_kitti-3d-3class'\n",
    "config_file = 'configs/pointpillars/hv_pointpillars_secfpn_6x8_160e_kitti-3d-3class.py'\n",
    "checkpoint_file = 'checkpoints/hv_pointpillars_secfpn_6x8_160e_kitti-3d-3class_20220301_150306-37dc2420.pth'\n",
    "\n",
    "model = init_model(config_file, checkpoint_file, device='cuda:0')"
   ]
  },
  {
   "cell_type": "code",
   "execution_count": 19,
   "metadata": {},
   "outputs": [
    {
     "name": "stdout",
     "output_type": "stream",
     "text": [
      "Frame not processed: 000012\n"
     ]
    }
   ],
   "source": [
    "# Run inference on first N frames and generate 3D boxes, projected on 2D images\n",
    "for idx in range(50):\n",
    "    vis_result_dir = f'./visualize/{cfg}'\n",
    "\n",
    "    # Visualize Results\n",
    "\n",
    "    # get information from dataset\n",
    "    data_info = kitti_dataset.get_data_info(idx)\n",
    "    pcd = data_info['pts_filename']\n",
    "\n",
    "    # get inference result\n",
    "    result, data = inference_detector(model, pcd)\n",
    "\n",
    "    # get data for multi-modal result\n",
    "    kitti_dataset.pre_pipeline(data_info)\n",
    "    example = kitti_dataset.pipeline(data_info)\n",
    "\n",
    "    img_path = data_info['img_info']['filename']\n",
    "    img = cv2.imread(img_path)\n",
    "    gt_bboxes = data_info['ann_info']['gt_bboxes_3d']\n",
    "    pred_bboxes = result[0]['boxes_3d']\n",
    "    img_metas = example['img_metas']\n",
    "    proj_mat = data_info['lidar2img']\n",
    "\n",
    "    # get frame number\n",
    "    frame_num = Path(img_path).name.strip('.png')\n",
    "\n",
    "    try:\n",
    "        # write multi modality result image\n",
    "        show_multi_modality_result(img, gt_bboxes, pred_bboxes, proj_mat, \n",
    "                vis_result_dir, frame_num, box_mode='lidar', img_metas=img_metas,\n",
    "                gt_bbox_color=(255,0,0), pred_bbox_color=(0,255,0))\n",
    "\n",
    "        # combine pred and gt results to singe image\n",
    "        frame_dir = f'{vis_result_dir}/{frame_num}'\n",
    "        img_pred = cv2.imread(f'{frame_dir}/{frame_num}_pred.png')\n",
    "        img_gt = cv2.imread(f'{frame_dir}/{frame_num}_gt.png')\n",
    "        img_combined = cv2.addWeighted(img_pred, 0.5, img_gt, 0.5, 0)\n",
    "        cv2.imwrite(f'{frame_dir}/{frame_num}_comb.png', img_combined)\n",
    "\n",
    "        show_result_meshlab(data, result, f'./visualize/{cfg}')\n",
    "    except:\n",
    "        print(f'Frame not processed: {frame_num}')"
   ]
  },
  {
   "cell_type": "code",
   "execution_count": 18,
   "metadata": {},
   "outputs": [
    {
     "name": "stdout",
     "output_type": "stream",
     "text": [
      "/home/015312115/mmdetection3d/mmdet3d/models/backbones/mink_resnet.py:10: UserWarning: Please follow `getting_started.md` to install MinkowskiEngine.`\n",
      "  'Please follow `getting_started.md` to install MinkowskiEngine.`')\n",
      "/home/015312115/mmdetection3d/mmdet3d/models/dense_heads/anchor3d_head.py:85: UserWarning: dir_offset and dir_limit_offset will be depressed and be incorporated into box coder in the future\n",
      "  'dir_offset and dir_limit_offset will be depressed and be '\n",
      "load checkpoint from local path: checkpoints/hv_pointpillars_secfpn_6x8_160e_kitti-3d-3class_20220301_150306-37dc2420.pth\n",
      "Done image [50 / 2000], fps: 20.7 img / s\n",
      "Done image [100/ 2000], fps: 20.4 img / s\n",
      "Done image [150/ 2000], fps: 20.4 img / s\n",
      "Done image [200/ 2000], fps: 20.4 img / s\n",
      "Done image [250/ 2000], fps: 20.5 img / s\n",
      "Done image [300/ 2000], fps: 20.4 img / s\n",
      "Done image [350/ 2000], fps: 20.4 img / s\n",
      "Done image [400/ 2000], fps: 20.4 img / s\n",
      "Done image [450/ 2000], fps: 20.4 img / s\n",
      "Done image [500/ 2000], fps: 20.4 img / s\n",
      "Done image [550/ 2000], fps: 20.4 img / s\n",
      "Done image [600/ 2000], fps: 20.4 img / s\n",
      "Done image [650/ 2000], fps: 20.4 img / s\n",
      "Done image [700/ 2000], fps: 20.4 img / s\n",
      "Done image [750/ 2000], fps: 20.4 img / s\n",
      "Done image [800/ 2000], fps: 20.4 img / s\n",
      "Done image [850/ 2000], fps: 20.4 img / s\n",
      "Done image [900/ 2000], fps: 20.4 img / s\n",
      "Done image [950/ 2000], fps: 20.4 img / s\n",
      "Done image [1000/ 2000], fps: 20.4 img / s\n",
      "Done image [1050/ 2000], fps: 20.4 img / s\n",
      "Done image [1100/ 2000], fps: 20.4 img / s\n",
      "Done image [1150/ 2000], fps: 20.4 img / s\n",
      "Done image [1200/ 2000], fps: 20.4 img / s\n",
      "Done image [1250/ 2000], fps: 20.4 img / s\n",
      "Done image [1300/ 2000], fps: 20.4 img / s\n",
      "Done image [1350/ 2000], fps: 20.4 img / s\n",
      "Done image [1400/ 2000], fps: 20.4 img / s\n",
      "Done image [1450/ 2000], fps: 20.4 img / s\n",
      "\u001b[0m"
     ]
    }
   ],
   "source": [
    "# benchmark for frame times\n",
    "!python tools/analysis_tools/benchmark.py {config_file} {checkpoint_file}"
   ]
  },
  {
   "cell_type": "code",
   "execution_count": 19,
   "metadata": {},
   "outputs": [
    {
     "name": "stdout",
     "output_type": "stream",
     "text": [
      "/home/015312115/mmdetection3d/mmdet3d/models/backbones/mink_resnet.py:10: UserWarning: Please follow `getting_started.md` to install MinkowskiEngine.`\n",
      "  'Please follow `getting_started.md` to install MinkowskiEngine.`')\n",
      "/home/015312115/py37cu10/lib/python3.7/site-packages/mmdet/utils/setup_env.py:39: UserWarning: Setting OMP_NUM_THREADS environment variable for each process to be 1 in default, to avoid your system being overloaded, please further tune the variable for optimal performance in your application as needed.\n",
      "  f'Setting OMP_NUM_THREADS environment variable for each process '\n",
      "/home/015312115/py37cu10/lib/python3.7/site-packages/mmdet/utils/setup_env.py:49: UserWarning: Setting MKL_NUM_THREADS environment variable for each process to be 1 in default, to avoid your system being overloaded, please further tune the variable for optimal performance in your application as needed.\n",
      "  f'Setting MKL_NUM_THREADS environment variable for each process '\n",
      "/home/015312115/mmdetection3d/mmdet3d/models/dense_heads/anchor3d_head.py:85: UserWarning: dir_offset and dir_limit_offset will be depressed and be incorporated into box coder in the future\n",
      "  'dir_offset and dir_limit_offset will be depressed and be '\n",
      "load checkpoint from local path: checkpoints/hv_pointpillars_secfpn_6x8_160e_kitti-3d-3class_20220301_150306-37dc2420.pth\n",
      "[>>>>>>>>>>>>>>>>>>>>>>>>>>>] 1497/1497, 21.8 task/s, elapsed: 69s, ETA:     0s\n",
      "writing results to results/hv_pointpillars_secfpn_6x8_160e_kitti-3d-3class.pkl\n",
      "\n",
      "Converting prediction to KITTI format\n",
      "[>>>>>>>>>>>>>>>>>>>>>>>>>>>] 1497/1497, 409.0 task/s, elapsed: 4s, ETA:     0s\n",
      "Result is saved to /tmp/tmpl99q4vxs/results.pkl.\n",
      "\n",
      "\n",
      "----------- AP11 Results ------------\n",
      "\n",
      "Pedestrian AP11@0.50, 0.50, 0.50:\n",
      "bbox AP11:73.0963, 68.1344, 64.0474\n",
      "bev  AP11:69.3156, 64.5951, 58.6195\n",
      "3d   AP11:67.3901, 61.7238, 56.2310\n",
      "aos  AP11:54.72, 52.52, 49.62\n",
      "Pedestrian AP11@0.50, 0.25, 0.25:\n",
      "bbox AP11:73.0963, 68.1344, 64.0474\n",
      "bev  AP11:78.6927, 74.2300, 68.9782\n",
      "3d   AP11:78.4355, 73.5549, 68.6721\n",
      "aos  AP11:54.72, 52.52, 49.62\n",
      "Cyclist AP11@0.50, 0.50, 0.50:\n",
      "bbox AP11:90.7463, 83.5342, 80.6968\n",
      "bev  AP11:89.1192, 78.3842, 76.5922\n",
      "3d   AP11:85.0654, 76.6718, 73.3051\n",
      "aos  AP11:88.70, 81.11, 78.10\n",
      "Cyclist AP11@0.50, 0.25, 0.25:\n",
      "bbox AP11:90.7463, 83.5342, 80.6968\n",
      "bev  AP11:90.9410, 82.0794, 78.1250\n",
      "3d   AP11:90.9410, 82.0794, 78.1250\n",
      "aos  AP11:88.70, 81.11, 78.10\n",
      "Car AP11@0.70, 0.70, 0.70:\n",
      "bbox AP11:96.8318, 90.4590, 89.8128\n",
      "bev  AP11:90.5401, 89.3470, 87.8774\n",
      "3d   AP11:89.7699, 85.2441, 79.0275\n",
      "aos  AP11:96.78, 90.09, 89.19\n",
      "Car AP11@0.70, 0.50, 0.50:\n",
      "bbox AP11:96.8318, 90.4590, 89.8128\n",
      "bev  AP11:96.9382, 90.4770, 89.9644\n",
      "3d   AP11:96.8969, 90.4674, 89.9409\n",
      "aos  AP11:96.78, 90.09, 89.19\n",
      "\n",
      "Overall AP11@easy, moderate, hard:\n",
      "bbox AP11:86.8915, 80.7092, 78.1857\n",
      "bev  AP11:82.9916, 77.4421, 74.3630\n",
      "3d   AP11:80.7418, 74.5466, 69.5212\n",
      "aos  AP11:80.07, 74.57, 72.30\n",
      "\n",
      "----------- AP40 Results ------------\n",
      "\n",
      "Pedestrian AP40@0.50, 0.50, 0.50:\n",
      "bbox AP40:74.5342, 68.3415, 63.8062\n",
      "bev  AP40:70.2794, 64.3906, 58.8886\n",
      "3d   AP40:67.2621, 61.2133, 55.4263\n",
      "aos  AP40:53.02, 50.21, 47.06\n",
      "Pedestrian AP40@0.50, 0.25, 0.25:\n",
      "bbox AP40:74.5342, 68.3415, 63.8062\n",
      "bev  AP40:79.5959, 75.1860, 69.9143\n",
      "3d   AP40:79.4508, 74.7993, 69.5953\n",
      "aos  AP40:53.02, 50.21, 47.06\n",
      "Cyclist AP40@0.50, 0.50, 0.50:\n",
      "bbox AP40:93.5801, 85.2721, 82.4247\n",
      "bev  AP40:91.4524, 80.5378, 77.4980\n",
      "3d   AP40:88.5932, 77.8598, 75.0092\n",
      "aos  AP40:91.35, 82.59, 79.69\n",
      "Cyclist AP40@0.50, 0.25, 0.25:\n",
      "bbox AP40:93.5801, 85.2721, 82.4247\n",
      "bev  AP40:93.7343, 82.6735, 80.0071\n",
      "3d   AP40:93.7343, 82.6731, 80.0050\n",
      "aos  AP40:91.35, 82.59, 79.69\n",
      "Car AP40@0.70, 0.70, 0.70:\n",
      "bbox AP40:98.7285, 95.7279, 92.9422\n",
      "bev  AP40:95.8878, 92.3000, 89.3567\n",
      "3d   AP40:94.2160, 86.2558, 81.1372\n",
      "aos  AP40:98.68, 95.29, 92.26\n",
      "Car AP40@0.70, 0.50, 0.50:\n",
      "bbox AP40:98.7285, 95.7279, 92.9422\n",
      "bev  AP40:98.7895, 95.8170, 93.1764\n",
      "3d   AP40:98.7666, 95.7898, 93.1260\n",
      "aos  AP40:98.68, 95.29, 92.26\n",
      "\n",
      "Overall AP40@easy, moderate, hard:\n",
      "bbox AP40:88.9476, 83.1138, 79.7244\n",
      "bev  AP40:85.8732, 79.0761, 75.2478\n",
      "3d   AP40:83.3571, 75.1096, 70.5242\n",
      "aos  AP40:81.02, 76.03, 73.00\n",
      "\n",
      "{'KITTI/Pedestrian_3D_AP11_easy_strict': 67.39007619735594, 'KITTI/Pedestrian_BEV_AP11_easy_strict': 69.31563907596995, 'KITTI/Pedestrian_2D_AP11_easy_strict': 73.09630708549733, 'KITTI/Pedestrian_3D_AP11_moderate_strict': 61.72383166147352, 'KITTI/Pedestrian_BEV_AP11_moderate_strict': 64.59514486824648, 'KITTI/Pedestrian_2D_AP11_moderate_strict': 68.13441851424349, 'KITTI/Pedestrian_3D_AP11_hard_strict': 56.230994748628504, 'KITTI/Pedestrian_BEV_AP11_hard_strict': 58.61951385463159, 'KITTI/Pedestrian_2D_AP11_hard_strict': 64.04735709957744, 'KITTI/Pedestrian_3D_AP11_easy_loose': 78.43551046975428, 'KITTI/Pedestrian_BEV_AP11_easy_loose': 78.69271988628955, 'KITTI/Pedestrian_2D_AP11_easy_loose': 73.09630708549733, 'KITTI/Pedestrian_3D_AP11_moderate_loose': 73.5549398576931, 'KITTI/Pedestrian_BEV_AP11_moderate_loose': 74.23003927897258, 'KITTI/Pedestrian_2D_AP11_moderate_loose': 68.13441851424349, 'KITTI/Pedestrian_3D_AP11_hard_loose': 68.67209060467209, 'KITTI/Pedestrian_BEV_AP11_hard_loose': 68.97821110335089, 'KITTI/Pedestrian_2D_AP11_hard_loose': 64.04735709957744, 'KITTI/Cyclist_3D_AP11_easy_strict': 85.06540763949803, 'KITTI/Cyclist_BEV_AP11_easy_strict': 89.11916585914746, 'KITTI/Cyclist_2D_AP11_easy_strict': 90.74630341357555, 'KITTI/Cyclist_3D_AP11_moderate_strict': 76.67182619485051, 'KITTI/Cyclist_BEV_AP11_moderate_strict': 78.38422358659697, 'KITTI/Cyclist_2D_AP11_moderate_strict': 83.53419272614427, 'KITTI/Cyclist_3D_AP11_hard_strict': 73.30514270771293, 'KITTI/Cyclist_BEV_AP11_hard_strict': 76.59216240656782, 'KITTI/Cyclist_2D_AP11_hard_strict': 80.69675905677634, 'KITTI/Cyclist_3D_AP11_easy_loose': 90.94097101119424, 'KITTI/Cyclist_BEV_AP11_easy_loose': 90.94097101119424, 'KITTI/Cyclist_2D_AP11_easy_loose': 90.74630341357555, 'KITTI/Cyclist_3D_AP11_moderate_loose': 82.07936711061677, 'KITTI/Cyclist_BEV_AP11_moderate_loose': 82.07936711061677, 'KITTI/Cyclist_2D_AP11_moderate_loose': 83.53419272614427, 'KITTI/Cyclist_3D_AP11_hard_loose': 78.12498208055636, 'KITTI/Cyclist_BEV_AP11_hard_loose': 78.12498208055636, 'KITTI/Cyclist_2D_AP11_hard_loose': 80.69675905677634, 'KITTI/Car_3D_AP11_easy_strict': 89.76990713051536, 'KITTI/Car_BEV_AP11_easy_strict': 90.54006088630554, 'KITTI/Car_2D_AP11_easy_strict': 96.83184884440668, 'KITTI/Car_3D_AP11_moderate_strict': 85.24413720042382, 'KITTI/Car_BEV_AP11_moderate_strict': 89.34697161600994, 'KITTI/Car_2D_AP11_moderate_strict': 90.45896513690882, 'KITTI/Car_3D_AP11_hard_strict': 79.02746170540324, 'KITTI/Car_BEV_AP11_hard_strict': 87.87736102686222, 'KITTI/Car_2D_AP11_hard_strict': 89.81283836740789, 'KITTI/Car_3D_AP11_easy_loose': 96.89691301016171, 'KITTI/Car_BEV_AP11_easy_loose': 96.93824679415056, 'KITTI/Car_2D_AP11_easy_loose': 96.83184884440668, 'KITTI/Car_3D_AP11_moderate_loose': 90.46738555540426, 'KITTI/Car_BEV_AP11_moderate_loose': 90.47700591582107, 'KITTI/Car_2D_AP11_moderate_loose': 90.45896513690882, 'KITTI/Car_3D_AP11_hard_loose': 89.94085260991191, 'KITTI/Car_BEV_AP11_hard_loose': 89.9644259116441, 'KITTI/Car_2D_AP11_hard_loose': 89.81283836740789, 'KITTI/Overall_3D_AP11_easy': 80.7417969891231, 'KITTI/Overall_BEV_AP11_easy': 82.99162194047432, 'KITTI/Overall_2D_AP11_easy': 86.89148644782652, 'KITTI/Overall_3D_AP11_moderate': 74.54659835224929, 'KITTI/Overall_BEV_AP11_moderate': 77.44211335695113, 'KITTI/Overall_2D_AP11_moderate': 80.70919212576553, 'KITTI/Overall_3D_AP11_hard': 69.52119972058155, 'KITTI/Overall_BEV_AP11_hard': 74.36301242935387, 'KITTI/Overall_2D_AP11_hard': 78.18565150792055, 'KITTI/Pedestrian_3D_AP40_easy_strict': 67.26208712220382, 'KITTI/Pedestrian_BEV_AP40_easy_strict': 70.27937852745912, 'KITTI/Pedestrian_2D_AP40_easy_strict': 74.5341739220877, 'KITTI/Pedestrian_3D_AP40_moderate_strict': 61.21326679908703, 'KITTI/Pedestrian_BEV_AP40_moderate_strict': 64.39060385126128, 'KITTI/Pedestrian_2D_AP40_moderate_strict': 68.34149312010284, 'KITTI/Pedestrian_3D_AP40_hard_strict': 55.42625524185638, 'KITTI/Pedestrian_BEV_AP40_hard_strict': 58.888633230678266, 'KITTI/Pedestrian_2D_AP40_hard_strict': 63.80615429242946, 'KITTI/Pedestrian_3D_AP40_easy_loose': 79.45078523005856, 'KITTI/Pedestrian_BEV_AP40_easy_loose': 79.59587035677642, 'KITTI/Pedestrian_2D_AP40_easy_loose': 74.5341739220877, 'KITTI/Pedestrian_3D_AP40_moderate_loose': 74.79930901128398, 'KITTI/Pedestrian_BEV_AP40_moderate_loose': 75.18602746546861, 'KITTI/Pedestrian_2D_AP40_moderate_loose': 68.34149312010284, 'KITTI/Pedestrian_3D_AP40_hard_loose': 69.59529484627286, 'KITTI/Pedestrian_BEV_AP40_hard_loose': 69.91433087061847, 'KITTI/Pedestrian_2D_AP40_hard_loose': 63.80615429242946, 'KITTI/Cyclist_3D_AP40_easy_strict': 88.59322643071549, 'KITTI/Cyclist_BEV_AP40_easy_strict': 91.45244262100496, 'KITTI/Cyclist_2D_AP40_easy_strict': 93.58013577685493, 'KITTI/Cyclist_3D_AP40_moderate_strict': 77.85978596464436, 'KITTI/Cyclist_BEV_AP40_moderate_strict': 80.53781418754555, 'KITTI/Cyclist_2D_AP40_moderate_strict': 85.27205871481242, 'KITTI/Cyclist_3D_AP40_hard_strict': 75.00919066593143, 'KITTI/Cyclist_BEV_AP40_hard_strict': 77.49802764823977, 'KITTI/Cyclist_2D_AP40_hard_strict': 82.42471262352605, 'KITTI/Cyclist_3D_AP40_easy_loose': 93.73430374052964, 'KITTI/Cyclist_BEV_AP40_easy_loose': 93.73430374052964, 'KITTI/Cyclist_2D_AP40_easy_loose': 93.58013577685493, 'KITTI/Cyclist_3D_AP40_moderate_loose': 82.67313065341341, 'KITTI/Cyclist_BEV_AP40_moderate_loose': 82.67348577304303, 'KITTI/Cyclist_2D_AP40_moderate_loose': 85.27205871481242, 'KITTI/Cyclist_3D_AP40_hard_loose': 80.0050479751752, 'KITTI/Cyclist_BEV_AP40_hard_loose': 80.00711922621082, 'KITTI/Cyclist_2D_AP40_hard_loose': 82.42471262352605, 'KITTI/Car_3D_AP40_easy_strict': 94.21596107773821, 'KITTI/Car_BEV_AP40_easy_strict': 95.88782020233427, 'KITTI/Car_2D_AP40_easy_strict': 98.72853651609728, 'KITTI/Car_3D_AP40_moderate_strict': 86.25578578044596, 'KITTI/Car_BEV_AP40_moderate_strict': 92.30002744242029, 'KITTI/Car_2D_AP40_moderate_strict': 95.72793097887885, 'KITTI/Car_3D_AP40_hard_strict': 81.13721886915407, 'KITTI/Car_BEV_AP40_hard_strict': 89.35670778637196, 'KITTI/Car_2D_AP40_hard_strict': 92.9422376443363, 'KITTI/Car_3D_AP40_easy_loose': 98.76657917111713, 'KITTI/Car_BEV_AP40_easy_loose': 98.7894628491708, 'KITTI/Car_2D_AP40_easy_loose': 98.72853651609728, 'KITTI/Car_3D_AP40_moderate_loose': 95.78984851994, 'KITTI/Car_BEV_AP40_moderate_loose': 95.81698456573955, 'KITTI/Car_2D_AP40_moderate_loose': 95.72793097887885, 'KITTI/Car_3D_AP40_hard_loose': 93.1260166672265, 'KITTI/Car_BEV_AP40_hard_loose': 93.176411789658, 'KITTI/Car_2D_AP40_hard_loose': 92.9422376443363, 'KITTI/Overall_3D_AP40_easy': 83.3570915435525, 'KITTI/Overall_BEV_AP40_easy': 85.87321378359945, 'KITTI/Overall_2D_AP40_easy': 88.94761540501331, 'KITTI/Overall_3D_AP40_moderate': 75.10961284805911, 'KITTI/Overall_BEV_AP40_moderate': 79.07614849374237, 'KITTI/Overall_2D_AP40_moderate': 83.11382760459803, 'KITTI/Overall_3D_AP40_hard': 70.52422159231396, 'KITTI/Overall_BEV_AP40_hard': 75.24778955509667, 'KITTI/Overall_2D_AP40_hard': 79.72436818676394}\n",
      "\u001b[0m"
     ]
    }
   ],
   "source": [
    "# run test for evaluation metrics\n",
    "!python tools/test.py {config_file} {checkpoint_file} --out results/{cfg}.pkl --eval mAP"
   ]
  },
  {
   "cell_type": "markdown",
   "metadata": {},
   "source": [
    "## Dynamic Voxelization 3D Car"
   ]
  },
  {
   "cell_type": "code",
   "execution_count": 20,
   "metadata": {},
   "outputs": [
    {
     "name": "stdout",
     "output_type": "stream",
     "text": [
      "load checkpoint from local path: work_dirs/dv_pointpillars_secfpn_6x8_160e_kitti-3d-car/latest.pth\n"
     ]
    }
   ],
   "source": [
    "cfg = 'dv_pointpillars_secfpn_6x8_160e_kitti-3d-car'\n",
    "config_file = 'configs/dynamic_voxelization/dv_pointpillars_secfpn_6x8_160e_kitti-3d-car.py'\n",
    "checkpoint_file = 'work_dirs/dv_pointpillars_secfpn_6x8_160e_kitti-3d-car/latest.pth'\n",
    "\n",
    "model = init_model(config_file, checkpoint_file, device='cuda:0')"
   ]
  },
  {
   "cell_type": "code",
   "execution_count": 21,
   "metadata": {},
   "outputs": [
    {
     "name": "stdout",
     "output_type": "stream",
     "text": [
      "Frame not processed: 000019\n",
      "Frame not processed: 000030\n",
      "Frame not processed: 000064\n"
     ]
    }
   ],
   "source": [
    "# Run inference on first N frames and generate 3D boxes, projected on 2D images\n",
    "for idx in range(50):\n",
    "    vis_result_dir = f'./visualize/{cfg}'\n",
    "\n",
    "    # Visualize Results\n",
    "\n",
    "    # get information from dataset\n",
    "    data_info = kitti_dataset.get_data_info(idx)\n",
    "    pcd = data_info['pts_filename']\n",
    "\n",
    "    # get inference result\n",
    "    result, data = inference_detector(model, pcd)\n",
    "\n",
    "    # get data for multi-modal result\n",
    "    kitti_dataset.pre_pipeline(data_info)\n",
    "    example = kitti_dataset.pipeline(data_info)\n",
    "\n",
    "    img_path = data_info['img_info']['filename']\n",
    "    img = cv2.imread(img_path)\n",
    "    gt_bboxes = data_info['ann_info']['gt_bboxes_3d']\n",
    "    pred_bboxes = result[0]['boxes_3d']\n",
    "    img_metas = example['img_metas']\n",
    "    proj_mat = data_info['lidar2img']\n",
    "\n",
    "    # get frame number\n",
    "    frame_num = Path(img_path).name.strip('.png')\n",
    "\n",
    "    try:\n",
    "        # write multi modality result image\n",
    "        show_multi_modality_result(img, gt_bboxes, pred_bboxes, proj_mat, \n",
    "                vis_result_dir, frame_num, box_mode='lidar', img_metas=img_metas,\n",
    "                gt_bbox_color=(255,0,0), pred_bbox_color=(0,255,0))\n",
    "\n",
    "        # combine pred and gt results to singe image\n",
    "        frame_dir = f'{vis_result_dir}/{frame_num}'\n",
    "        img_pred = cv2.imread(f'{frame_dir}/{frame_num}_pred.png')\n",
    "        img_gt = cv2.imread(f'{frame_dir}/{frame_num}_gt.png')\n",
    "        img_combined = cv2.addWeighted(img_pred, 0.5, img_gt, 0.5, 0)\n",
    "        cv2.imwrite(f'{frame_dir}/{frame_num}_comb.png', img_combined)\n",
    "\n",
    "        show_result_meshlab(data, result, f'./visualize/{cfg}')\n",
    "    except:\n",
    "        print(f'Frame not processed: {frame_num}')"
   ]
  },
  {
   "cell_type": "code",
   "execution_count": 22,
   "metadata": {},
   "outputs": [
    {
     "name": "stdout",
     "output_type": "stream",
     "text": [
      "/home/015312115/mmdetection3d/mmdet3d/models/backbones/mink_resnet.py:10: UserWarning: Please follow `getting_started.md` to install MinkowskiEngine.`\n",
      "  'Please follow `getting_started.md` to install MinkowskiEngine.`')\n",
      "/home/015312115/mmdetection3d/mmdet3d/models/dense_heads/anchor3d_head.py:85: UserWarning: dir_offset and dir_limit_offset will be depressed and be incorporated into box coder in the future\n",
      "  'dir_offset and dir_limit_offset will be depressed and be '\n",
      "load checkpoint from local path: work_dirs/dv_pointpillars_secfpn_6x8_160e_kitti-3d-car/latest.pth\n",
      "Done image [50 / 2000], fps: 45.0 img / s\n",
      "Done image [100/ 2000], fps: 41.7 img / s\n",
      "Done image [150/ 2000], fps: 38.8 img / s\n",
      "Done image [200/ 2000], fps: 37.4 img / s\n",
      "Done image [250/ 2000], fps: 37.3 img / s\n",
      "Done image [300/ 2000], fps: 36.7 img / s\n",
      "Done image [350/ 2000], fps: 36.4 img / s\n",
      "Done image [400/ 2000], fps: 36.6 img / s\n",
      "Done image [450/ 2000], fps: 36.8 img / s\n",
      "Done image [500/ 2000], fps: 37.0 img / s\n",
      "Done image [550/ 2000], fps: 36.8 img / s\n",
      "Done image [600/ 2000], fps: 36.8 img / s\n",
      "Done image [650/ 2000], fps: 36.8 img / s\n",
      "Done image [700/ 2000], fps: 36.8 img / s\n",
      "Done image [750/ 2000], fps: 36.8 img / s\n",
      "Done image [800/ 2000], fps: 36.9 img / s\n",
      "Done image [850/ 2000], fps: 36.8 img / s\n",
      "Done image [900/ 2000], fps: 36.8 img / s\n",
      "Done image [950/ 2000], fps: 36.8 img / s\n",
      "Done image [1000/ 2000], fps: 36.7 img / s\n",
      "Done image [1050/ 2000], fps: 36.8 img / s\n",
      "Done image [1100/ 2000], fps: 36.8 img / s\n",
      "Done image [1150/ 2000], fps: 36.8 img / s\n",
      "Done image [1200/ 2000], fps: 36.8 img / s\n",
      "Done image [1250/ 2000], fps: 36.8 img / s\n",
      "Done image [1300/ 2000], fps: 36.8 img / s\n",
      "Done image [1350/ 2000], fps: 36.8 img / s\n",
      "Done image [1400/ 2000], fps: 36.7 img / s\n",
      "Done image [1450/ 2000], fps: 36.6 img / s\n",
      "\u001b[0m"
     ]
    }
   ],
   "source": [
    "# benchmark for frame times\n",
    "!python tools/analysis_tools/benchmark.py {config_file} {checkpoint_file}"
   ]
  },
  {
   "cell_type": "code",
   "execution_count": 23,
   "metadata": {},
   "outputs": [
    {
     "name": "stdout",
     "output_type": "stream",
     "text": [
      "/home/015312115/mmdetection3d/mmdet3d/models/backbones/mink_resnet.py:10: UserWarning: Please follow `getting_started.md` to install MinkowskiEngine.`\n",
      "  'Please follow `getting_started.md` to install MinkowskiEngine.`')\n",
      "/home/015312115/py37cu10/lib/python3.7/site-packages/mmdet/utils/setup_env.py:39: UserWarning: Setting OMP_NUM_THREADS environment variable for each process to be 1 in default, to avoid your system being overloaded, please further tune the variable for optimal performance in your application as needed.\n",
      "  f'Setting OMP_NUM_THREADS environment variable for each process '\n",
      "/home/015312115/py37cu10/lib/python3.7/site-packages/mmdet/utils/setup_env.py:49: UserWarning: Setting MKL_NUM_THREADS environment variable for each process to be 1 in default, to avoid your system being overloaded, please further tune the variable for optimal performance in your application as needed.\n",
      "  f'Setting MKL_NUM_THREADS environment variable for each process '\n",
      "/home/015312115/mmdetection3d/mmdet3d/models/dense_heads/anchor3d_head.py:85: UserWarning: dir_offset and dir_limit_offset will be depressed and be incorporated into box coder in the future\n",
      "  'dir_offset and dir_limit_offset will be depressed and be '\n",
      "load checkpoint from local path: work_dirs/dv_pointpillars_secfpn_6x8_160e_kitti-3d-car/latest.pth\n",
      "[>>>>>>>>>>>>>>>>>>>>>>>>>>>] 1497/1497, 31.2 task/s, elapsed: 48s, ETA:     0s\n",
      "writing results to results/dv_pointpillars_secfpn_6x8_160e_kitti-3d-car.pkl\n",
      "\n",
      "Converting prediction to KITTI format\n",
      "[>>>>>>>>>>>>>>>>>>>>>>>>>>>] 1497/1497, 454.9 task/s, elapsed: 3s, ETA:     0s\n",
      "Result is saved to /tmp/tmp2_o63qjv/results.pkl.\n",
      "\n",
      "\n",
      "----------- AP11 Results ------------\n",
      "\n",
      "Car AP11@0.70, 0.70, 0.70:\n",
      "bbox AP11:90.7258, 89.6986, 88.2731\n",
      "bev  AP11:89.9788, 88.1361, 84.9006\n",
      "3d   AP11:87.0824, 76.6987, 73.0169\n",
      "aos  AP11:90.30, 87.65, 85.26\n",
      "Car AP11@0.70, 0.50, 0.50:\n",
      "bbox AP11:90.7258, 89.6986, 88.2731\n",
      "bev  AP11:90.7916, 90.1393, 89.4374\n",
      "3d   AP11:90.7916, 89.9602, 89.0636\n",
      "aos  AP11:90.30, 87.65, 85.26\n",
      "\n",
      "----------- AP40 Results ------------\n",
      "\n",
      "Car AP40@0.70, 0.70, 0.70:\n",
      "bbox AP40:96.4689, 92.4699, 89.5783\n",
      "bev  AP40:95.4011, 88.9483, 85.8919\n",
      "3d   AP40:89.8115, 78.1371, 73.2751\n",
      "aos  AP40:95.94, 90.18, 86.38\n",
      "Car AP40@0.70, 0.50, 0.50:\n",
      "bbox AP40:96.4689, 92.4699, 89.5783\n",
      "bev  AP40:96.7122, 95.1512, 92.3662\n",
      "3d   AP40:96.6515, 94.7884, 90.0694\n",
      "aos  AP40:95.94, 90.18, 86.38\n",
      "\n",
      "{'KITTI/Car_3D_AP11_easy_strict': 87.08242879279294, 'KITTI/Car_BEV_AP11_easy_strict': 89.9787776689146, 'KITTI/Car_2D_AP11_easy_strict': 90.72577285226231, 'KITTI/Car_3D_AP11_moderate_strict': 76.69866315615181, 'KITTI/Car_BEV_AP11_moderate_strict': 88.13608833995326, 'KITTI/Car_2D_AP11_moderate_strict': 89.69855206992136, 'KITTI/Car_3D_AP11_hard_strict': 73.01689631709482, 'KITTI/Car_BEV_AP11_hard_strict': 84.90063984392175, 'KITTI/Car_2D_AP11_hard_strict': 88.27307692777819, 'KITTI/Car_3D_AP11_easy_loose': 90.79157223201545, 'KITTI/Car_BEV_AP11_easy_loose': 90.79157223201545, 'KITTI/Car_2D_AP11_easy_loose': 90.72577285226231, 'KITTI/Car_3D_AP11_moderate_loose': 89.96024517859261, 'KITTI/Car_BEV_AP11_moderate_loose': 90.1393437370568, 'KITTI/Car_2D_AP11_moderate_loose': 89.69855206992136, 'KITTI/Car_3D_AP11_hard_loose': 89.06358409824323, 'KITTI/Car_BEV_AP11_hard_loose': 89.43736817526303, 'KITTI/Car_2D_AP11_hard_loose': 88.27307692777819, 'KITTI/Car_3D_AP40_easy_strict': 89.81153004380997, 'KITTI/Car_BEV_AP40_easy_strict': 95.40111017508531, 'KITTI/Car_2D_AP40_easy_strict': 96.46885148141216, 'KITTI/Car_3D_AP40_moderate_strict': 78.13711805840659, 'KITTI/Car_BEV_AP40_moderate_strict': 88.94833653727581, 'KITTI/Car_2D_AP40_moderate_strict': 92.46994677549773, 'KITTI/Car_3D_AP40_hard_strict': 73.27511371853302, 'KITTI/Car_BEV_AP40_hard_strict': 85.8918841167467, 'KITTI/Car_2D_AP40_hard_strict': 89.57827709216899, 'KITTI/Car_3D_AP40_easy_loose': 96.65149871995717, 'KITTI/Car_BEV_AP40_easy_loose': 96.71223400493211, 'KITTI/Car_2D_AP40_easy_loose': 96.46885148141216, 'KITTI/Car_3D_AP40_moderate_loose': 94.78836689209083, 'KITTI/Car_BEV_AP40_moderate_loose': 95.1511765930151, 'KITTI/Car_2D_AP40_moderate_loose': 92.46994677549773, 'KITTI/Car_3D_AP40_hard_loose': 90.06939262803772, 'KITTI/Car_BEV_AP40_hard_loose': 92.36624412159605, 'KITTI/Car_2D_AP40_hard_loose': 89.57827709216899}\n",
      "\u001b[0m"
     ]
    }
   ],
   "source": [
    "# run test for evaluation metrics\n",
    "!python tools/test.py {config_file} {checkpoint_file} --out results/{cfg}.pkl --eval mAP"
   ]
  },
  {
   "cell_type": "markdown",
   "metadata": {},
   "source": [
    "## Dynamic Voxelization 3D 3-class"
   ]
  },
  {
   "cell_type": "code",
   "execution_count": 24,
   "metadata": {},
   "outputs": [
    {
     "name": "stdout",
     "output_type": "stream",
     "text": [
      "load checkpoint from local path: work_dirs/dv_pointpillars_secfpn_6x8_160e_kitti-3d-3class/latest.pth\n"
     ]
    }
   ],
   "source": [
    "cfg = 'dv_pointpillars_secfpn_6x8_160e_kitti-3d-3class'\n",
    "config_file = 'configs/dynamic_voxelization/dv_pointpillars_secfpn_6x8_160e_kitti-3d-3class.py'\n",
    "checkpoint_file = 'work_dirs/dv_pointpillars_secfpn_6x8_160e_kitti-3d-3class/latest.pth'\n",
    "\n",
    "model = init_model(config_file, checkpoint_file, device='cuda:0')"
   ]
  },
  {
   "cell_type": "code",
   "execution_count": 25,
   "metadata": {},
   "outputs": [
    {
     "name": "stdout",
     "output_type": "stream",
     "text": [
      "Frame not processed: 000012\n",
      "Frame not processed: 000023\n",
      "Frame not processed: 000044\n"
     ]
    }
   ],
   "source": [
    "# Run inference on first N frames and generate 3D boxes, projected on 2D images\n",
    "for idx in range(50):\n",
    "    vis_result_dir = f'./visualize/{cfg}'\n",
    "\n",
    "    # Visualize Results\n",
    "\n",
    "    # get information from dataset\n",
    "    data_info = kitti_dataset.get_data_info(idx)\n",
    "    pcd = data_info['pts_filename']\n",
    "\n",
    "    # get inference result\n",
    "    result, data = inference_detector(model, pcd)\n",
    "\n",
    "    # get data for multi-modal result\n",
    "    kitti_dataset.pre_pipeline(data_info)\n",
    "    example = kitti_dataset.pipeline(data_info)\n",
    "\n",
    "    img_path = data_info['img_info']['filename']\n",
    "    img = cv2.imread(img_path)\n",
    "    gt_bboxes = data_info['ann_info']['gt_bboxes_3d']\n",
    "    pred_bboxes = result[0]['boxes_3d']\n",
    "    img_metas = example['img_metas']\n",
    "    proj_mat = data_info['lidar2img']\n",
    "\n",
    "    # get frame number\n",
    "    frame_num = Path(img_path).name.strip('.png')\n",
    "\n",
    "    try:\n",
    "        # write multi modality result image\n",
    "        show_multi_modality_result(img, gt_bboxes, pred_bboxes, proj_mat, \n",
    "                vis_result_dir, frame_num, box_mode='lidar', img_metas=img_metas,\n",
    "                gt_bbox_color=(255,0,0), pred_bbox_color=(0,255,0))\n",
    "\n",
    "        # combine pred and gt results to singe image\n",
    "        frame_dir = f'{vis_result_dir}/{frame_num}'\n",
    "        img_pred = cv2.imread(f'{frame_dir}/{frame_num}_pred.png')\n",
    "        img_gt = cv2.imread(f'{frame_dir}/{frame_num}_gt.png')\n",
    "        img_combined = cv2.addWeighted(img_pred, 0.5, img_gt, 0.5, 0)\n",
    "        cv2.imwrite(f'{frame_dir}/{frame_num}_comb.png', img_combined)\n",
    "\n",
    "        show_result_meshlab(data, result, f'./visualize/{cfg}')\n",
    "    except:\n",
    "        print(f'Frame not processed: {frame_num}')\n",
    "\n",
    "        show_result_meshlab(data, result, f'./visualize/{cfg}')"
   ]
  },
  {
   "cell_type": "code",
   "execution_count": 26,
   "metadata": {},
   "outputs": [
    {
     "name": "stdout",
     "output_type": "stream",
     "text": [
      "/home/015312115/mmdetection3d/mmdet3d/models/backbones/mink_resnet.py:10: UserWarning: Please follow `getting_started.md` to install MinkowskiEngine.`\n",
      "  'Please follow `getting_started.md` to install MinkowskiEngine.`')\n",
      "/home/015312115/mmdetection3d/mmdet3d/models/dense_heads/anchor3d_head.py:85: UserWarning: dir_offset and dir_limit_offset will be depressed and be incorporated into box coder in the future\n",
      "  'dir_offset and dir_limit_offset will be depressed and be '\n",
      "load checkpoint from local path: work_dirs/dv_pointpillars_secfpn_6x8_160e_kitti-3d-3class/latest.pth\n",
      "Done image [50 / 2000], fps: 27.5 img / s\n",
      "Done image [100/ 2000], fps: 27.2 img / s\n",
      "Done image [150/ 2000], fps: 27.0 img / s\n",
      "Done image [200/ 2000], fps: 27.0 img / s\n",
      "Done image [250/ 2000], fps: 27.1 img / s\n",
      "Done image [300/ 2000], fps: 27.1 img / s\n",
      "Done image [350/ 2000], fps: 27.1 img / s\n",
      "Done image [400/ 2000], fps: 27.2 img / s\n",
      "Done image [450/ 2000], fps: 27.2 img / s\n",
      "Done image [500/ 2000], fps: 27.1 img / s\n",
      "Done image [550/ 2000], fps: 27.2 img / s\n",
      "Done image [600/ 2000], fps: 27.1 img / s\n",
      "Done image [650/ 2000], fps: 27.1 img / s\n",
      "Done image [700/ 2000], fps: 27.1 img / s\n",
      "Done image [750/ 2000], fps: 27.2 img / s\n",
      "Done image [800/ 2000], fps: 27.3 img / s\n",
      "Done image [850/ 2000], fps: 27.4 img / s\n",
      "Done image [900/ 2000], fps: 27.4 img / s\n",
      "Done image [950/ 2000], fps: 27.5 img / s\n",
      "Done image [1000/ 2000], fps: 27.5 img / s\n",
      "Done image [1050/ 2000], fps: 27.6 img / s\n",
      "Done image [1100/ 2000], fps: 27.6 img / s\n",
      "Done image [1150/ 2000], fps: 27.6 img / s\n",
      "Done image [1200/ 2000], fps: 27.5 img / s\n",
      "Done image [1250/ 2000], fps: 27.5 img / s\n",
      "Done image [1300/ 2000], fps: 27.5 img / s\n",
      "Done image [1350/ 2000], fps: 27.5 img / s\n",
      "Done image [1400/ 2000], fps: 27.5 img / s\n",
      "Done image [1450/ 2000], fps: 27.5 img / s\n",
      "\u001b[0m"
     ]
    }
   ],
   "source": [
    "# benchmark for frame times\n",
    "!python tools/analysis_tools/benchmark.py {config_file} {checkpoint_file}"
   ]
  },
  {
   "cell_type": "code",
   "execution_count": 27,
   "metadata": {},
   "outputs": [
    {
     "name": "stdout",
     "output_type": "stream",
     "text": [
      "/home/015312115/mmdetection3d/mmdet3d/models/backbones/mink_resnet.py:10: UserWarning: Please follow `getting_started.md` to install MinkowskiEngine.`\n",
      "  'Please follow `getting_started.md` to install MinkowskiEngine.`')\n",
      "/home/015312115/py37cu10/lib/python3.7/site-packages/mmdet/utils/setup_env.py:39: UserWarning: Setting OMP_NUM_THREADS environment variable for each process to be 1 in default, to avoid your system being overloaded, please further tune the variable for optimal performance in your application as needed.\n",
      "  f'Setting OMP_NUM_THREADS environment variable for each process '\n",
      "/home/015312115/py37cu10/lib/python3.7/site-packages/mmdet/utils/setup_env.py:49: UserWarning: Setting MKL_NUM_THREADS environment variable for each process to be 1 in default, to avoid your system being overloaded, please further tune the variable for optimal performance in your application as needed.\n",
      "  f'Setting MKL_NUM_THREADS environment variable for each process '\n",
      "/home/015312115/mmdetection3d/mmdet3d/models/dense_heads/anchor3d_head.py:85: UserWarning: dir_offset and dir_limit_offset will be depressed and be incorporated into box coder in the future\n",
      "  'dir_offset and dir_limit_offset will be depressed and be '\n",
      "load checkpoint from local path: work_dirs/dv_pointpillars_secfpn_6x8_160e_kitti-3d-3class/latest.pth\n",
      "[>>>>>>>>>>>>>>>>>>>>>>>>>>>] 1497/1497, 28.7 task/s, elapsed: 52s, ETA:     0s\n",
      "writing results to results/dv_pointpillars_secfpn_6x8_160e_kitti-3d-3class.pkl\n",
      "\n",
      "Converting prediction to KITTI format\n",
      "[>>>>>>>>>>>>>>>>>>>>>>>>>>>] 1497/1497, 405.5 task/s, elapsed: 4s, ETA:     0s\n",
      "Result is saved to /tmp/tmpovfotrti/results.pkl.\n",
      "\n",
      "\n",
      "----------- AP11 Results ------------\n",
      "\n",
      "Pedestrian AP11@0.50, 0.50, 0.50:\n",
      "bbox AP11:64.8998, 59.3612, 55.6291\n",
      "bev  AP11:62.5878, 56.8600, 52.3448\n",
      "3d   AP11:57.4399, 52.1735, 47.9837\n",
      "aos  AP11:32.37, 28.83, 27.03\n",
      "Pedestrian AP11@0.50, 0.25, 0.25:\n",
      "bbox AP11:64.8998, 59.3612, 55.6291\n",
      "bev  AP11:72.7762, 67.0805, 62.9395\n",
      "3d   AP11:72.7297, 66.8321, 62.5806\n",
      "aos  AP11:32.37, 28.83, 27.03\n",
      "Cyclist AP11@0.50, 0.50, 0.50:\n",
      "bbox AP11:75.2176, 71.1073, 68.8065\n",
      "bev  AP11:63.3408, 58.3597, 54.3147\n",
      "3d   AP11:57.5564, 52.7614, 51.4984\n",
      "aos  AP11:39.05, 35.88, 34.41\n",
      "Cyclist AP11@0.50, 0.25, 0.25:\n",
      "bbox AP11:75.2176, 71.1073, 68.8065\n",
      "bev  AP11:70.5232, 67.3903, 64.8997\n",
      "3d   AP11:70.5232, 67.3903, 64.8997\n",
      "aos  AP11:39.05, 35.88, 34.41\n",
      "Car AP11@0.70, 0.70, 0.70:\n",
      "bbox AP11:90.6340, 89.5713, 88.4809\n",
      "bev  AP11:90.0984, 88.0328, 85.2527\n",
      "3d   AP11:87.3405, 77.1594, 73.7511\n",
      "aos  AP11:89.68, 87.58, 85.38\n",
      "Car AP11@0.70, 0.50, 0.50:\n",
      "bbox AP11:90.6340, 89.5713, 88.4809\n",
      "bev  AP11:90.6942, 89.9792, 89.2607\n",
      "3d   AP11:90.6490, 89.8096, 88.9982\n",
      "aos  AP11:89.68, 87.58, 85.38\n",
      "\n",
      "Overall AP11@easy, moderate, hard:\n",
      "bbox AP11:76.9172, 73.3466, 70.9722\n",
      "bev  AP11:72.0090, 67.7508, 63.9707\n",
      "3d   AP11:67.4456, 60.6981, 57.7444\n",
      "aos  AP11:53.70, 50.77, 48.94\n",
      "\n",
      "----------- AP40 Results ------------\n",
      "\n",
      "Pedestrian AP40@0.50, 0.50, 0.50:\n",
      "bbox AP40:65.0870, 58.7544, 54.5124\n",
      "bev  AP40:62.5344, 56.3792, 51.7627\n",
      "3d   AP40:57.7586, 51.6480, 46.9514\n",
      "aos  AP40:32.55, 28.62, 26.62\n",
      "Pedestrian AP40@0.50, 0.25, 0.25:\n",
      "bbox AP40:65.0870, 58.7544, 54.5124\n",
      "bev  AP40:73.6052, 67.3230, 62.7656\n",
      "3d   AP40:73.5562, 67.1097, 62.2825\n",
      "aos  AP40:32.55, 28.62, 26.62\n",
      "Cyclist AP40@0.50, 0.50, 0.50:\n",
      "bbox AP40:75.6324, 72.1800, 68.8372\n",
      "bev  AP40:63.2889, 56.9996, 53.6041\n",
      "3d   AP40:58.6117, 52.5146, 49.3628\n",
      "aos  AP40:39.24, 36.60, 34.48\n",
      "Cyclist AP40@0.50, 0.25, 0.25:\n",
      "bbox AP40:75.6324, 72.1800, 68.8372\n",
      "bev  AP40:72.1484, 68.1511, 65.0674\n",
      "3d   AP40:72.1484, 68.1511, 65.0674\n",
      "aos  AP40:39.24, 36.60, 34.48\n",
      "Car AP40@0.70, 0.70, 0.70:\n",
      "bbox AP40:96.3221, 92.5674, 89.6743\n",
      "bev  AP40:95.3308, 88.9794, 85.9345\n",
      "3d   AP40:90.3861, 78.7018, 73.6622\n",
      "aos  AP40:95.20, 90.34, 86.38\n",
      "Car AP40@0.70, 0.50, 0.50:\n",
      "bbox AP40:96.3221, 92.5674, 89.6743\n",
      "bev  AP40:96.4989, 95.1456, 92.3790\n",
      "3d   AP40:96.3901, 94.8492, 91.9236\n",
      "aos  AP40:95.20, 90.34, 86.38\n",
      "\n",
      "Overall AP40@easy, moderate, hard:\n",
      "bbox AP40:79.0138, 74.5006, 71.0080\n",
      "bev  AP40:73.7181, 67.4527, 63.7671\n",
      "3d   AP40:68.9188, 60.9548, 56.6588\n",
      "aos  AP40:55.66, 51.86, 49.16\n",
      "\n",
      "{'KITTI/Pedestrian_3D_AP11_easy_strict': 57.43985082117988, 'KITTI/Pedestrian_BEV_AP11_easy_strict': 62.58779041868817, 'KITTI/Pedestrian_2D_AP11_easy_strict': 64.89984213978947, 'KITTI/Pedestrian_3D_AP11_moderate_strict': 52.17354659027571, 'KITTI/Pedestrian_BEV_AP11_moderate_strict': 56.85995634546409, 'KITTI/Pedestrian_2D_AP11_moderate_strict': 59.361155138152974, 'KITTI/Pedestrian_3D_AP11_hard_strict': 47.98371008003622, 'KITTI/Pedestrian_BEV_AP11_hard_strict': 52.34478272508686, 'KITTI/Pedestrian_2D_AP11_hard_strict': 55.62912946466264, 'KITTI/Pedestrian_3D_AP11_easy_loose': 72.72974622242533, 'KITTI/Pedestrian_BEV_AP11_easy_loose': 72.77616269549507, 'KITTI/Pedestrian_2D_AP11_easy_loose': 64.89984213978947, 'KITTI/Pedestrian_3D_AP11_moderate_loose': 66.83213810282282, 'KITTI/Pedestrian_BEV_AP11_moderate_loose': 67.08051255599558, 'KITTI/Pedestrian_2D_AP11_moderate_loose': 59.361155138152974, 'KITTI/Pedestrian_3D_AP11_hard_loose': 62.58064796723747, 'KITTI/Pedestrian_BEV_AP11_hard_loose': 62.93947580689905, 'KITTI/Pedestrian_2D_AP11_hard_loose': 55.62912946466264, 'KITTI/Cyclist_3D_AP11_easy_strict': 57.5563917591147, 'KITTI/Cyclist_BEV_AP11_easy_strict': 63.340777395785665, 'KITTI/Cyclist_2D_AP11_easy_strict': 75.21764647434436, 'KITTI/Cyclist_3D_AP11_moderate_strict': 52.761425024082385, 'KITTI/Cyclist_BEV_AP11_moderate_strict': 58.35966706904059, 'KITTI/Cyclist_2D_AP11_moderate_strict': 71.10732729163905, 'KITTI/Cyclist_3D_AP11_hard_strict': 51.498361950768725, 'KITTI/Cyclist_BEV_AP11_hard_strict': 54.31465513396178, 'KITTI/Cyclist_2D_AP11_hard_strict': 68.80653053859018, 'KITTI/Cyclist_3D_AP11_easy_loose': 70.52317015610453, 'KITTI/Cyclist_BEV_AP11_easy_loose': 70.52317015610453, 'KITTI/Cyclist_2D_AP11_easy_loose': 75.21764647434436, 'KITTI/Cyclist_3D_AP11_moderate_loose': 67.39025353651151, 'KITTI/Cyclist_BEV_AP11_moderate_loose': 67.39025353651151, 'KITTI/Cyclist_2D_AP11_moderate_loose': 71.10732729163905, 'KITTI/Cyclist_3D_AP11_hard_loose': 64.89973171626062, 'KITTI/Cyclist_BEV_AP11_hard_loose': 64.89973171626062, 'KITTI/Cyclist_2D_AP11_hard_loose': 68.80653053859018, 'KITTI/Car_3D_AP11_easy_strict': 87.34047895557123, 'KITTI/Car_BEV_AP11_easy_strict': 90.09839000318233, 'KITTI/Car_2D_AP11_easy_strict': 90.63402982679595, 'KITTI/Car_3D_AP11_moderate_strict': 77.15938877950809, 'KITTI/Car_BEV_AP11_moderate_strict': 88.03278297037276, 'KITTI/Car_2D_AP11_moderate_strict': 89.57131287188672, 'KITTI/Car_3D_AP11_hard_strict': 73.75108105514391, 'KITTI/Car_BEV_AP11_hard_strict': 85.25266412986275, 'KITTI/Car_2D_AP11_hard_strict': 88.48085267982917, 'KITTI/Car_3D_AP11_easy_loose': 90.6490183262179, 'KITTI/Car_BEV_AP11_easy_loose': 90.69415505702901, 'KITTI/Car_2D_AP11_easy_loose': 90.63402982679595, 'KITTI/Car_3D_AP11_moderate_loose': 89.80960281788731, 'KITTI/Car_BEV_AP11_moderate_loose': 89.97922135909928, 'KITTI/Car_2D_AP11_moderate_loose': 89.57131287188672, 'KITTI/Car_3D_AP11_hard_loose': 88.99820447676791, 'KITTI/Car_BEV_AP11_hard_loose': 89.26066933695243, 'KITTI/Car_2D_AP11_hard_loose': 88.48085267982917, 'KITTI/Overall_3D_AP11_easy': 67.4455738452886, 'KITTI/Overall_BEV_AP11_easy': 72.00898593921873, 'KITTI/Overall_2D_AP11_easy': 76.91717281364326, 'KITTI/Overall_3D_AP11_moderate': 60.698120131288725, 'KITTI/Overall_BEV_AP11_moderate': 67.75080212829248, 'KITTI/Overall_2D_AP11_moderate': 73.34659843389291, 'KITTI/Overall_3D_AP11_hard': 57.74438436198295, 'KITTI/Overall_BEV_AP11_hard': 63.970700662970465, 'KITTI/Overall_2D_AP11_hard': 70.97217089436066, 'KITTI/Pedestrian_3D_AP40_easy_strict': 57.75855157108941, 'KITTI/Pedestrian_BEV_AP40_easy_strict': 62.534409096979196, 'KITTI/Pedestrian_2D_AP40_easy_strict': 65.08701796341627, 'KITTI/Pedestrian_3D_AP40_moderate_strict': 51.64795520840217, 'KITTI/Pedestrian_BEV_AP40_moderate_strict': 56.379230092546706, 'KITTI/Pedestrian_2D_AP40_moderate_strict': 58.7544105444339, 'KITTI/Pedestrian_3D_AP40_hard_strict': 46.951403449839, 'KITTI/Pedestrian_BEV_AP40_hard_strict': 51.76269473335326, 'KITTI/Pedestrian_2D_AP40_hard_strict': 54.512383809301646, 'KITTI/Pedestrian_3D_AP40_easy_loose': 73.55620509581175, 'KITTI/Pedestrian_BEV_AP40_easy_loose': 73.60519150991213, 'KITTI/Pedestrian_2D_AP40_easy_loose': 65.08701796341627, 'KITTI/Pedestrian_3D_AP40_moderate_loose': 67.10973349738629, 'KITTI/Pedestrian_BEV_AP40_moderate_loose': 67.32298130711487, 'KITTI/Pedestrian_2D_AP40_moderate_loose': 58.7544105444339, 'KITTI/Pedestrian_3D_AP40_hard_loose': 62.28248285477098, 'KITTI/Pedestrian_BEV_AP40_hard_loose': 62.76558592972583, 'KITTI/Pedestrian_2D_AP40_hard_loose': 54.512383809301646, 'KITTI/Cyclist_3D_AP40_easy_strict': 58.611690358883884, 'KITTI/Cyclist_BEV_AP40_easy_strict': 63.2889315023363, 'KITTI/Cyclist_2D_AP40_easy_strict': 75.63242158428348, 'KITTI/Cyclist_3D_AP40_moderate_strict': 52.51456515010127, 'KITTI/Cyclist_BEV_AP40_moderate_strict': 56.999566545993474, 'KITTI/Cyclist_2D_AP40_moderate_strict': 72.17998335067458, 'KITTI/Cyclist_3D_AP40_hard_strict': 49.362846409263874, 'KITTI/Cyclist_BEV_AP40_hard_strict': 53.604133906372475, 'KITTI/Cyclist_2D_AP40_hard_strict': 68.83717065103652, 'KITTI/Cyclist_3D_AP40_easy_loose': 72.14838333837413, 'KITTI/Cyclist_BEV_AP40_easy_loose': 72.14838333837413, 'KITTI/Cyclist_2D_AP40_easy_loose': 75.63242158428348, 'KITTI/Cyclist_3D_AP40_moderate_loose': 68.15108520980999, 'KITTI/Cyclist_BEV_AP40_moderate_loose': 68.15108520980999, 'KITTI/Cyclist_2D_AP40_moderate_loose': 72.17998335067458, 'KITTI/Cyclist_3D_AP40_hard_loose': 65.06744241248093, 'KITTI/Cyclist_BEV_AP40_hard_loose': 65.06744241248093, 'KITTI/Cyclist_2D_AP40_hard_loose': 68.83717065103652, 'KITTI/Car_3D_AP40_easy_strict': 90.38607991644163, 'KITTI/Car_BEV_AP40_easy_strict': 95.33084308944095, 'KITTI/Car_2D_AP40_easy_strict': 96.32205634550226, 'KITTI/Car_3D_AP40_moderate_strict': 78.70183852158253, 'KITTI/Car_BEV_AP40_moderate_strict': 88.97943436220356, 'KITTI/Car_2D_AP40_moderate_strict': 92.56736193879676, 'KITTI/Car_3D_AP40_hard_strict': 73.6621747243862, 'KITTI/Car_BEV_AP40_hard_strict': 85.93450329137967, 'KITTI/Car_2D_AP40_hard_strict': 89.67431074363427, 'KITTI/Car_3D_AP40_easy_loose': 96.39009294754666, 'KITTI/Car_BEV_AP40_easy_loose': 96.49893563907051, 'KITTI/Car_2D_AP40_easy_loose': 96.32205634550226, 'KITTI/Car_3D_AP40_moderate_loose': 94.84923038127585, 'KITTI/Car_BEV_AP40_moderate_loose': 95.14563537188975, 'KITTI/Car_2D_AP40_moderate_loose': 92.56736193879676, 'KITTI/Car_3D_AP40_hard_loose': 91.92363478405285, 'KITTI/Car_BEV_AP40_hard_loose': 92.37898113087934, 'KITTI/Car_2D_AP40_hard_loose': 89.67431074363427, 'KITTI/Overall_3D_AP40_easy': 68.91877394880498, 'KITTI/Overall_BEV_AP40_easy': 73.71806122958547, 'KITTI/Overall_2D_AP40_easy': 79.01383196440067, 'KITTI/Overall_3D_AP40_moderate': 60.95478629336199, 'KITTI/Overall_BEV_AP40_moderate': 67.45274366691457, 'KITTI/Overall_2D_AP40_moderate': 74.50058527796841, 'KITTI/Overall_3D_AP40_hard': 56.65880819449635, 'KITTI/Overall_BEV_AP40_hard': 63.76711064370179, 'KITTI/Overall_2D_AP40_hard': 71.0079550679908}\n",
      "\u001b[0m"
     ]
    }
   ],
   "source": [
    "# run test for evaluation metrics\n",
    "!python tools/test.py {config_file} {checkpoint_file} --out results/{cfg}.pkl --eval mAP"
   ]
  }
 ],
 "metadata": {
  "kernelspec": {
   "display_name": "py37cu10",
   "language": "python",
   "name": "py37cu10"
  },
  "orig_nbformat": 4,
  "vscode": {
   "interpreter": {
    "hash": "364bf80ec3357c517417e509b77beb380f93a8befd191d00c444bb4eef120f90"
   }
  }
 },
 "nbformat": 4,
 "nbformat_minor": 2
}
