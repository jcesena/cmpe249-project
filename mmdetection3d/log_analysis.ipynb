{
 "cells": [
  {
   "cell_type": "code",
   "execution_count": 1,
   "metadata": {},
   "outputs": [],
   "source": [
    "from pathlib import Path"
   ]
  },
  {
   "cell_type": "code",
   "execution_count": 3,
   "metadata": {},
   "outputs": [
    {
     "name": "stdout",
     "output_type": "stream",
     "text": [
      "plot curve of work_dirs\\dv_pointpillars_secfpn_6x8_160e_kitti-3d-car\\20220824_005755.log.json, metric is loss_cls\n",
      "plot curve of work_dirs\\dv_pointpillars_secfpn_6x8_160e_kitti-3d-car\\20220824_005755.log.json, metric is loss_bbox\n",
      "save curve to: log_analysis/dv_pointpillars_secfpn_6x8_160e_kitti-3d-car/losses.png\n"
     ]
    }
   ],
   "source": [
    "cfg = 'dv_pointpillars_secfpn_6x8_160e_kitti-3d-car'\n",
    "\n",
    "logfiles = Path(f'work_dirs/{cfg}').glob('*.log.json')\n",
    "log_path = [f for f in logfiles][-1].relative_to('./')\n",
    "\n",
    "Path(f'log_analysis/{cfg}').mkdir(exist_ok=True)\n",
    "\n",
    "!python tools/analysis_tools/analyze_logs.py plot_curve {log_path} --keys loss_cls loss_bbox --legend loss_cls loss_bbox --out log_analysis/{cfg}/losses.png\n",
    "\n",
    "# !python tools/analysis_tools/analyze_logs.py plot_curve {log_path} --keys KITTI/Car_3D_AP11_easy_strict --legend Car3D_moderate_strict --out log_analysis/{cfg}/AP11_easy_strict.png"
   ]
  },
  {
   "cell_type": "code",
   "execution_count": 4,
   "metadata": {},
   "outputs": [
    {
     "name": "stdout",
     "output_type": "stream",
     "text": [
      "plot curve of work_dirs\\dv_pointpillars_secfpn_6x8_160e_kitti-3d-3class\\20220828_134252.log.json, metric is loss_cls\n",
      "plot curve of work_dirs\\dv_pointpillars_secfpn_6x8_160e_kitti-3d-3class\\20220828_134252.log.json, metric is loss_bbox\n",
      "save curve to: log_analysis/dv_pointpillars_secfpn_6x8_160e_kitti-3d-3class/losses.png\n"
     ]
    }
   ],
   "source": [
    "cfg = 'dv_pointpillars_secfpn_6x8_160e_kitti-3d-3class'\n",
    "\n",
    "logfiles = Path(f'work_dirs/{cfg}').glob('*.log.json')\n",
    "log_path = [f for f in logfiles][-1].relative_to('./')\n",
    "\n",
    "Path(f'log_analysis/{cfg}').mkdir(exist_ok=True)\n",
    "\n",
    "!python tools/analysis_tools/analyze_logs.py plot_curve {log_path} --keys loss_cls loss_bbox --legend loss_cls loss_bbox --out log_analysis/{cfg}/losses.png"
   ]
  },
  {
   "cell_type": "code",
   "execution_count": 5,
   "metadata": {},
   "outputs": [
    {
     "name": "stdout",
     "output_type": "stream",
     "text": [
      "plot curve of work_dirs\\hv_second_secfpn_6x8_80e_kitti-3d-car\\20220812_004545.log.json, metric is loss_cls\n",
      "plot curve of work_dirs\\hv_second_secfpn_6x8_80e_kitti-3d-car\\20220812_004545.log.json, metric is loss_bbox\n",
      "save curve to: log_analysis/hv_second_secfpn_6x8_80e_kitti-3d-car/losses.png\n"
     ]
    }
   ],
   "source": [
    "cfg = 'hv_second_secfpn_6x8_80e_kitti-3d-car'\n",
    "\n",
    "logfiles = Path(f'work_dirs/{cfg}').glob('*.log.json')\n",
    "log_path = [f for f in logfiles][-1].relative_to('./')\n",
    "\n",
    "Path(f'log_analysis/{cfg}').mkdir(exist_ok=True)\n",
    "\n",
    "!python tools/analysis_tools/analyze_logs.py plot_curve {log_path} --keys loss_cls loss_bbox --legend loss_cls loss_bbox --out log_analysis/{cfg}/losses.png"
   ]
  },
  {
   "cell_type": "code",
   "execution_count": null,
   "metadata": {},
   "outputs": [],
   "source": []
  }
 ],
 "metadata": {
  "kernelspec": {
   "display_name": "Python 3.7.13 ('mmdet3d')",
   "language": "python",
   "name": "python3"
  },
  "language_info": {
   "codemirror_mode": {
    "name": "ipython",
    "version": 3
   },
   "file_extension": ".py",
   "mimetype": "text/x-python",
   "name": "python",
   "nbconvert_exporter": "python",
   "pygments_lexer": "ipython3",
   "version": "3.7.13"
  },
  "orig_nbformat": 4,
  "vscode": {
   "interpreter": {
    "hash": "d642244241eddb21998db770019d05497614dcb7506cc171d9710b86e243af80"
   }
  }
 },
 "nbformat": 4,
 "nbformat_minor": 2
}
